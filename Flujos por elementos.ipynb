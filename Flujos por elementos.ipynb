{
 "cells": [
  {
   "cell_type": "markdown",
   "metadata": {},
   "source": [
    "# Revisión de Flujos de potencia de elementos en casos de PSS/E\n",
    "\n",
    "## Objetivo.\n",
    "En este notebook se obtiene un reporte de flujos de potencia a través de las líneas de transmisión y transformadores que se especifiquen. La explotación de los datos se hace para el total de casos de PSS/E (_*.sav_) que se encuentran en un directorio.\n",
    "\n",
    "## Problema.\n",
    "Se requiere obtener el flujo en MW de los enlaces mostrados en la siguiente figura (flechas verdes). La extracción de los valores de flujos se hará de todos los casos que se encuentran en una misma carpeta y corresponden a los escenarios de verano de 2023.\n",
    "\n",
    "<img src=\"images\\NB-Flujos por elementos-Figura 1.png\">\n",
    "\n",
    "**Los casos originales los puedes descargar de la siguiente liga:**\n",
    "\n",
    "[Casos 2023 (verano 16 Horas) 26-Ago-2022](https://cenacegobmx.sharepoint.com/:f:/r/sites/PAM2018-20332/Documentos%20compartidos/PSSE/2023_16Hverano?csf=1&web=1&e=uaWdCy)\n",
    "\n",
    "**La tabla de resultados que se quiere obtener es de la siguiente forma:**\n",
    "\n",
    "| Casos .sav | Flujo RAP - DMD | Flujo RAP - SLR | Flujo TR SAL | Flujo TR DMD |\n",
    "| ---    | --- | --- | --- | --- |\n",
    "| caso 1 | 650 | 648 | 85  | 147 |\n",
    "| caso 2 | 650 | 648 | 85  | 147 |\n",
    "| ...    | ... | ... | ... | ... |\n",
    "| caso n | 650 | 648 | 85  | 147 |"
   ]
  },
  {
   "cell_type": "markdown",
   "metadata": {},
   "source": [
    "## Otras consideraciones\n",
    "El caso de 2023 tiene considerada la obra del segundo entronque del Derramadero (P18-NE2), pero de acuerdo con lo que se pide, el flujo de potencia es con la topología anterior (sin considerar la obra), por lo que,antes de obtener el reporte de flujos, se requiere correr un _script .py_ que haga esa modificación y resuleva flujos de potencia considerando el cambio."
   ]
  },
  {
   "cell_type": "markdown",
   "metadata": {},
   "source": [
    "# Solución\n",
    "\n",
    "### Importar librerías e instanciar el PSS/E"
   ]
  },
  {
   "cell_type": "code",
   "execution_count": 1,
   "metadata": {},
   "outputs": [
    {
     "name": "stdout",
     "output_type": "stream",
     "text": [
      "    Sets PSSE environment to latest minor version among installed versions of PSSE 35.\n",
      "    Use psse35.set_minor(n) to set PSSE35 minor version (n) to use.\n",
      "        Example, for PSSE 35.0.x, use this as: psse35.set_minor(0)\n",
      "\n",
      " Input error detected at !\n",
      " -m ipykernel_launcher --ip=127.0.0.1 --stdin=9008 --control=9006 --hb=9005 \"--Session.signature_scheme=\\\"hmac-sha256\\\"\" \"--Session.key=b\\\"913510d9-afff-4551-8de4-ef6bb8814175\\\"\" --shell=9007 \"--transport=\\\"tcp\\\"\" --iopu\n",
      "                                                                                                          !\n",
      "\n",
      " PSS(R)E Version 35\n",
      " Copyright (c) 1976-2022\n",
      " Siemens Industry, Inc.,\n",
      " Power Technologies International                            (PTI)\n",
      " This program is a confidential  unpublished  work  created  and  first\n",
      " licensed in 1976.  It is a trade secret which is the property of  PTI.\n",
      " All use,  disclosure,  and/or reproduction not specifically authorized\n",
      " by  PTI  is prohibited.   This  program is protected  under  copyright\n",
      " laws  of  non-U.S.  countries  and  by  application  of  international\n",
      " treaties.  All  Rights  Reserved  Under  The  Copyright  Laws.\n",
      "\n",
      "\n",
      "           SIEMENS POWER TECHNOLOGIES INTERNATIONAL\n",
      "\n",
      "      50000 BUS POWER SYSTEM SIMULATOR--PSS(R)E-35.3.3\n",
      "\n",
      "             INITIATED ON FRI, AUG 26 2022  18:26\n"
     ]
    }
   ],
   "source": [
    "from lib_psse39 import *\n",
    "from src.funcs35 import *"
   ]
  },
  {
   "cell_type": "markdown",
   "metadata": {},
   "source": [
    "### Leer los casos y realizar la corrección de topología (quitar la obra del PEM P18-NE2)\n",
    "\n",
    "**NOTA: El código de la siguiente celda solo se debería ejecutar si el PEM P18-NE2 se encuentra modelado en los casos.**"
   ]
  },
  {
   "cell_type": "code",
   "execution_count": null,
   "metadata": {},
   "outputs": [],
   "source": [
    "# Se instancian las variables _i, _f y _s que son utilizadas para obtener los valores que trae por defecto o que no quieren cambiarse\n",
    "\n",
    "_i = psspy.getdefaultint()\n",
    "_f = psspy.getdefaultreal()\n",
    "_s = psspy.getdefaultchar()\n",
    "\n",
    "for casos in casos_sav:\n",
    "    # Abre un caso a la vez\n",
    "    psspy.case(os.path.abspath(\"casos/2023_20Hinvierno/\" + casos))\n",
    "    # Hace las modificaciones correspondientes a eliminar el entronque en Derramadero y modelar la línea original (RAP - SLR)\n",
    "    psspy.purgbrn(640004,640099,r\"\"\"ET\"\"\")\n",
    "    psspy.purgbrn(32277,640099,r\"\"\"ET\"\"\")\n",
    "    psspy.moveshunt(640099,r\"\"\"TL\"\"\",640004,r\"\"\"TL\"\"\")\n",
    "    psspy.branch_data_3(640004,32277,r\"\"\"1\"\"\",[1,640004,640,0,0,0],[0.0, 0.0001,0.0,0.0,0.0,0.0,0.0,0.0, 1.0, 1.0, 1.0, 1.0],[0.0,0.0,0.0,0.0,0.0,0.0,0.0,0.0,0.0,0.0,0.0,0.0],\"\")\n",
    "    psspy.branch_chng_3(640004,32277,r\"\"\"1\"\"\",[_i,_i,_i,_i,_i,_i],[ 0.00261, 0.03225, 0.95188,_f,_f,_f,_f, 136.7,_f,_f,_f,_f],[ 1385.6, 1524.2, 1538.1,_f,_f,_f,_f,_f,_f,_f,_f,_f],_s)\n",
    "    psspy.seq_branch_data_3(640004,32277,r\"\"\"1\"\"\",_i,[ 0.02479, 0.10282, 0.56678,_f,_f,_f,_f,_f])\n",
    "    psspy.mbidbrn(640004,32277,r\"\"\"1\"\"\",r\"\"\"G1\"\"\")\n",
    "    # Se resuleve el caso de flujos de potencia\n",
    "    psspy.fnsl([0,0,0,1,2,1,99,0])\n",
    "    # Guardamos el caso en la misma ruta\n",
    "    psspy.save(os.path.abspath(\"casos/2023_20Hinvierno/\" + casos))"
   ]
  },
  {
   "cell_type": "code",
   "execution_count": null,
   "metadata": {},
   "outputs": [],
   "source": [
    "LIN_NOM = ['RAP - DMD',\n",
    "           'RAP - SLR']\n",
    "LINEAS = ['640099-640004-5D',\n",
    "          '640099-640004-ET']"
   ]
  },
  {
   "cell_type": "code",
   "execution_count": 2,
   "metadata": {},
   "outputs": [
    {
     "ename": "NameError",
     "evalue": "name 'casos_sav' is not defined",
     "output_type": "error",
     "traceback": [
      "\u001b[1;31m---------------------------------------------------------------------------\u001b[0m",
      "\u001b[1;31mNameError\u001b[0m                                 Traceback (most recent call last)",
      "\u001b[1;32mc:\\Users\\10243\\Desktop\\PSSE\\Flujos por elementos.ipynb Celda 8\u001b[0m in \u001b[0;36m<cell line: 1>\u001b[1;34m()\u001b[0m\n\u001b[1;32m----> <a href='vscode-notebook-cell:/c%3A/Users/10243/Desktop/PSSE/Flujos%20por%20elementos.ipynb#X13sZmlsZQ%3D%3D?line=0'>1</a>\u001b[0m psspy\u001b[39m.\u001b[39mcase(os\u001b[39m.\u001b[39mpath\u001b[39m.\u001b[39mabspath(\u001b[39m\"\u001b[39m\u001b[39mcasos/2023_20Hinvierno/\u001b[39m\u001b[39m\"\u001b[39m \u001b[39m+\u001b[39m casos_sav[\u001b[39m0\u001b[39m]))\n\u001b[0;32m      <a href='vscode-notebook-cell:/c%3A/Users/10243/Desktop/PSSE/Flujos%20por%20elementos.ipynb#X13sZmlsZQ%3D%3D?line=1'>2</a>\u001b[0m ierr \u001b[39m=\u001b[39m psspy\u001b[39m.\u001b[39mbsys(\u001b[39m0\u001b[39m,\u001b[39m1\u001b[39m,[\u001b[39m400\u001b[39m,\u001b[39m400\u001b[39m],\u001b[39m2\u001b[39m,[\u001b[39m3\u001b[39m,\u001b[39m6\u001b[39m],\u001b[39m0\u001b[39m,[],\u001b[39m0\u001b[39m,[],\u001b[39m0\u001b[39m,[])\n",
      "\u001b[1;31mNameError\u001b[0m: name 'casos_sav' is not defined"
     ]
    }
   ],
   "source": [
    "CASOS_PATH = \"./casos/2023_20Hinvierno/\" # Ruta donde se guardan los archivos .sav (de acuerdo con la estructura del repositorio)\n",
    "casos_sav = os.listdir(CASOS_PATH) # Genera una lista con los nombres de los casos\n",
    "\n",
    "psspy.case(os.path.abspath(\"casos/2023_20Hinvierno/\" + casos_sav[0]))\n",
    "ierr = psspy.bsys(0,1,[400,400],2,[3,6],0,[],0,[],0,[])"
   ]
  },
  {
   "cell_type": "code",
   "execution_count": null,
   "metadata": {},
   "outputs": [],
   "source": [
    "d = dic_flujos()"
   ]
  },
  {
   "cell_type": "code",
   "execution_count": null,
   "metadata": {},
   "outputs": [],
   "source": [
    "#Busca los valores de los enlaces deseados\n",
    "f = []\n",
    "for linea in LINEAS:\n",
    "    try:\n",
    "        f.append(d[linea])\n",
    "    except:\n",
    "        print(\"Enlace \", linea, \"no encontrado en el caso o subsistema\")\n"
   ]
  },
  {
   "cell_type": "code",
   "execution_count": null,
   "metadata": {},
   "outputs": [],
   "source": [
    "for caso in casos_sav:\n",
    "    psspy.case(os.path.abspath(\"casos/2023_20Hinvierno\" + caso))\n",
    "    "
   ]
  }
 ],
 "metadata": {
  "kernelspec": {
   "display_name": "Python 3.9.13 ('psspy39')",
   "language": "python",
   "name": "python3"
  },
  "language_info": {
   "codemirror_mode": {
    "name": "ipython",
    "version": 3
   },
   "file_extension": ".py",
   "mimetype": "text/x-python",
   "name": "python",
   "nbconvert_exporter": "python",
   "pygments_lexer": "ipython3",
   "version": "3.9.13"
  },
  "orig_nbformat": 4,
  "vscode": {
   "interpreter": {
    "hash": "3c6c54cd06a4ef50c6524d03d7762564c20173591bec6d09845b169cc987a52c"
   }
  }
 },
 "nbformat": 4,
 "nbformat_minor": 2
}
