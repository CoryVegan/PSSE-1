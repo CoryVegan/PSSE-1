{
 "cells": [
  {
   "cell_type": "markdown",
   "metadata": {},
   "source": [
    "# Revisión de Flujos de potencia de elementos en casos de PSS/E\n",
    "\n",
    "## Objetivo.\n",
    "En este notebook se obtiene un reporte de flujos de potencia a través de las líneas de transmisión y transformadores que se especifiquen. La explotación de los datos se hace para el total de casos de PSS/E (_*.sav_) que se encuentran en un directorio.\n",
    "\n",
    "## Problema.\n",
    "Se requiere obtener el flujo en MW de los enlaces mostrados en la siguiente figura (flechas verdes). La extracción de los valores de flujos se hará de todos los casos que se encuentran en una misma carpeta y corresponden a los escenarios de verano de 2023.\n",
    "\n",
    "<img src=\"images\\NB-Flujos por elementos-Figura 1.png\">\n",
    "\n",
    "**Los casos originales los puedes descargar de la siguiente liga:**\n",
    "\n",
    "[Casos 2023 (verano 16 Horas) 26-Ago-2022](https://cenacegobmx.sharepoint.com/:f:/r/sites/PAM2018-20332/Documentos%20compartidos/PSSE/2023_16Hverano?csf=1&web=1&e=uaWdCy)\n",
    "\n",
    "**La tabla de resultados que se quiere obtener es de la siguiente forma:**\n",
    "\n",
    "| Casos .sav | Flujo RAP - DMD | Flujo RAP - SLR | Flujo TR SAL | Flujo TR DMD |\n",
    "| ---    | --- | --- | --- | --- |\n",
    "| caso 1 | 650 | 648 | 85  | 147 |\n",
    "| caso 2 | 650 | 648 | 85  | 147 |\n",
    "| ...    | ... | ... | ... | ... |\n",
    "| caso n | 650 | 648 | 85  | 147 |"
   ]
  },
  {
   "cell_type": "markdown",
   "metadata": {},
   "source": [
    "## Otras consideraciones\n",
    "El caso de 2023 tiene considerada la obra del segundo entronque del Derramadero (P18-NE2), pero de acuerdo con lo que se pide, el flujo de potencia es con la topología anterior (sin considerar la obra), por lo que,antes de obtener el reporte de flujos, se requiere correr un _script .py_ que haga esa modificación y resuleva flujos de potencia considerando el cambio."
   ]
  },
  {
   "cell_type": "markdown",
   "metadata": {},
   "source": [
    "# Solución\n",
    "\n",
    "### Importar librerías e instanciar el PSS/E"
   ]
  },
  {
   "cell_type": "code",
   "execution_count": 1,
   "metadata": {},
   "outputs": [
    {
     "name": "stdout",
     "output_type": "stream",
     "text": [
      "    Sets PSSE environment to latest minor version among installed versions of PSSE 35.\n",
      "    Use psse35.set_minor(n) to set PSSE35 minor version (n) to use.\n",
      "        Example, for PSSE 35.0.x, use this as: psse35.set_minor(0)\n",
      "\n",
      " Input error detected at !\n",
      " -m ipykernel_launcher --ip=127.0.0.1 --stdin=9044 --control=9042 --hb=9041 \"--Session.signature_scheme=\\\"hmac-sha256\\\"\" \"--Session.key=b\\\"9b717dfa-d06c-4777-8ef3-9346f29cc421\\\"\" --shell=9043 \"--transport=\\\"tcp\\\"\" --iopu\n",
      "                                                                                                          !\n",
      "\n",
      " PSS(R)E Version 35\n",
      " Copyright (c) 1976-2022\n",
      " Siemens Industry, Inc.,\n",
      " Power Technologies International                            (PTI)\n",
      " This program is a confidential  unpublished  work  created  and  first\n",
      " licensed in 1976.  It is a trade secret which is the property of  PTI.\n",
      " All use,  disclosure,  and/or reproduction not specifically authorized\n",
      " by  PTI  is prohibited.   This  program is protected  under  copyright\n",
      " laws  of  non-U.S.  countries  and  by  application  of  international\n",
      " treaties.  All  Rights  Reserved  Under  The  Copyright  Laws.\n",
      "\n",
      "\n",
      "           SIEMENS POWER TECHNOLOGIES INTERNATIONAL\n",
      "\n",
      "      50000 BUS POWER SYSTEM SIMULATOR--PSS(R)E-35.0.0\n",
      "\n",
      "             INITIATED ON SAT, AUG 27 2022  15:11\n"
     ]
    }
   ],
   "source": [
    "#from lib_psse39 import * # Para intérprete de Python 3.9 \n",
    "from lib_psse37 import * # Para intérprete de Python 3.7 \n",
    "from src.funcs35 import *"
   ]
  },
  {
   "cell_type": "markdown",
   "metadata": {},
   "source": [
    "### Leer los casos y realizar la corrección de topología (quitar la obra del PEM P18-NE2)\n",
    "\n",
    "**NOTA: El código de las siguientes dos celdas solo se debería ejecutar si el PEM P18-NE2 se encuentra modelado en los casos.**"
   ]
  },
  {
   "cell_type": "code",
   "execution_count": null,
   "metadata": {},
   "outputs": [],
   "source": [
    "CASOS_PATH = \"./casos/2023_20Hinvierno/\" # Ruta donde se guardan los archivos .sav (de acuerdo con la estructura del repositorio)\n",
    "casos_sav = os.listdir(CASOS_PATH) # Genera una lista con los nombres de los casos"
   ]
  },
  {
   "cell_type": "code",
   "execution_count": null,
   "metadata": {},
   "outputs": [],
   "source": [
    "# Se instancian las variables _i, _f y _s que son utilizadas para obtener los valores que trae por defecto o que no quieren cambiarse\n",
    "\n",
    "_i = psspy.getdefaultint()\n",
    "_f = psspy.getdefaultreal()\n",
    "_s = psspy.getdefaultchar()\n",
    "\n",
    "for casos in casos_sav:\n",
    "    # Abre un caso a la vez\n",
    "    psspy.case(os.path.abspath(\"casos/2023_20Hinvierno/\" + casos))\n",
    "    # Hace las modificaciones correspondientes a eliminar el entronque en Derramadero y modelar la línea original (RAP - SLR)\n",
    "    psspy.purgbrn(640004,640099,r\"\"\"ET\"\"\")\n",
    "    psspy.purgbrn(32277,640099,r\"\"\"ET\"\"\")\n",
    "    psspy.moveshunt(640099,r\"\"\"TL\"\"\",640004,r\"\"\"TL\"\"\")\n",
    "    psspy.branch_data_3(640004,32277,r\"\"\"1\"\"\",[1,640004,640,0,0,0],[0.0, 0.0001,0.0,0.0,0.0,0.0,0.0,0.0, 1.0, 1.0, 1.0, 1.0],[0.0,0.0,0.0,0.0,0.0,0.0,0.0,0.0,0.0,0.0,0.0,0.0],\"\")\n",
    "    psspy.branch_chng_3(640004,32277,r\"\"\"1\"\"\",[_i,_i,_i,_i,_i,_i],[ 0.00261, 0.03225, 0.95188,_f,_f,_f,_f, 136.7,_f,_f,_f,_f],[ 1385.6, 1524.2, 1538.1,_f,_f,_f,_f,_f,_f,_f,_f,_f],_s)\n",
    "    psspy.seq_branch_data_3(640004,32277,r\"\"\"1\"\"\",_i,[ 0.02479, 0.10282, 0.56678,_f,_f,_f,_f,_f])\n",
    "    psspy.mbidbrn(640004,32277,r\"\"\"1\"\"\",r\"\"\"G1\"\"\")\n",
    "    # Se resuleve el caso de flujos de potencia\n",
    "    psspy.fnsl([0,0,0,1,2,1,99,0])\n",
    "    # Guardamos el caso en la misma ruta\n",
    "    psspy.save(os.path.abspath(\"casos/2023_20Hinvierno/\" + casos))"
   ]
  },
  {
   "cell_type": "code",
   "execution_count": 2,
   "metadata": {},
   "outputs": [],
   "source": [
    "CASOS_PATH = \"./casos/2023_20Hinvierno/\" # Ruta donde se guardan los archivos .sav (de acuerdo con la estructura del repositorio)\n",
    "casos_sav = os.listdir(CASOS_PATH) # Genera una lista con los nombres de los casos\n"
   ]
  },
  {
   "cell_type": "code",
   "execution_count": 3,
   "metadata": {},
   "outputs": [],
   "source": [
    "ELEM_NOM = ['RAP - DMD',\n",
    "           'RAP - SLR',\n",
    "           'TR-1 SAL',\n",
    "           'TR-2 SAL',\n",
    "           'TR-1 RAP']\n",
    "\n",
    "ELEM = ['640004-32277-G1',\n",
    "        '640004-640099-5D',\n",
    "        '640003-02',\n",
    "        '640003-03',\n",
    "        '640004-01'] #,'4455-44567-ER']"
   ]
  },
  {
   "cell_type": "code",
   "execution_count": 4,
   "metadata": {},
   "outputs": [
    {
     "name": "stdout",
     "output_type": "stream",
     "text": [
      "\n",
      "\n",
      "\n",
      " The Saved Case in file d:\\CENACE\\PSSE\\casos\\2023_20Hinvierno\\5-C15_2027_PRIFS20H_OCC_NTE_NES - copia (2).sav was saved on SAT, AUG 27 2022  13:02\n",
      "\n",
      "\n",
      "\n",
      " The Saved Case in file d:\\CENACE\\PSSE\\casos\\2023_20Hinvierno\\5-C15_2027_PRIFS20H_OCC_NTE_NES - copia.sav was saved on SAT, AUG 27 2022  13:02\n",
      "\n",
      "\n",
      "\n",
      " The Saved Case in file d:\\CENACE\\PSSE\\casos\\2023_20Hinvierno\\5-C15_2027_PRIFS20H_OCC_NTE_NES.sav was saved on SAT, AUG 27 2022  13:02\n"
     ]
    }
   ],
   "source": [
    "caso_dic = {}\n",
    "for caso in casos_sav:\n",
    "    psspy.case(os.path.abspath(\"casos/2023_20Hinvierno/\" + caso))\n",
    "    d = dic_flujos(0,[400,400],[3,6])\n",
    "    FL = []\n",
    "    for linea in ELEM:\n",
    "        try:\n",
    "            FL.append(d[linea][0])\n",
    "        except:\n",
    "            print(\"Enlace \", linea, \"no encontrado en el caso o subsistema\")\n",
    "    caso_dic[caso] = FL"
   ]
  },
  {
   "cell_type": "code",
   "execution_count": 10,
   "metadata": {},
   "outputs": [
    {
     "data": {
      "text/html": [
       "<div>\n",
       "<style scoped>\n",
       "    .dataframe tbody tr th:only-of-type {\n",
       "        vertical-align: middle;\n",
       "    }\n",
       "\n",
       "    .dataframe tbody tr th {\n",
       "        vertical-align: top;\n",
       "    }\n",
       "\n",
       "    .dataframe thead th {\n",
       "        text-align: right;\n",
       "    }\n",
       "</style>\n",
       "<table border=\"1\" class=\"dataframe\">\n",
       "  <thead>\n",
       "    <tr style=\"text-align: right;\">\n",
       "      <th></th>\n",
       "      <th>RAP - DMD</th>\n",
       "      <th>RAP - SLR</th>\n",
       "      <th>TR-1 SAL</th>\n",
       "      <th>TR-2 SAL</th>\n",
       "      <th>TR-1 RAP</th>\n",
       "    </tr>\n",
       "  </thead>\n",
       "  <tbody>\n",
       "    <tr>\n",
       "      <th>5-C15_2027_PRIFS20H_OCC_NTE_NES - copia (2).sav</th>\n",
       "      <td>539.560791</td>\n",
       "      <td>518.914062</td>\n",
       "      <td>51.319546</td>\n",
       "      <td>51.319546</td>\n",
       "      <td>224.8909</td>\n",
       "    </tr>\n",
       "    <tr>\n",
       "      <th>5-C15_2027_PRIFS20H_OCC_NTE_NES - copia.sav</th>\n",
       "      <td>539.560791</td>\n",
       "      <td>518.914062</td>\n",
       "      <td>51.319546</td>\n",
       "      <td>51.319546</td>\n",
       "      <td>224.8909</td>\n",
       "    </tr>\n",
       "    <tr>\n",
       "      <th>5-C15_2027_PRIFS20H_OCC_NTE_NES.sav</th>\n",
       "      <td>539.560791</td>\n",
       "      <td>518.914062</td>\n",
       "      <td>51.319546</td>\n",
       "      <td>51.319546</td>\n",
       "      <td>224.8909</td>\n",
       "    </tr>\n",
       "  </tbody>\n",
       "</table>\n",
       "</div>"
      ],
      "text/plain": [
       "                                                  RAP - DMD   RAP - SLR  \\\n",
       "5-C15_2027_PRIFS20H_OCC_NTE_NES - copia (2).sav  539.560791  518.914062   \n",
       "5-C15_2027_PRIFS20H_OCC_NTE_NES - copia.sav      539.560791  518.914062   \n",
       "5-C15_2027_PRIFS20H_OCC_NTE_NES.sav              539.560791  518.914062   \n",
       "\n",
       "                                                  TR-1 SAL   TR-2 SAL  \\\n",
       "5-C15_2027_PRIFS20H_OCC_NTE_NES - copia (2).sav  51.319546  51.319546   \n",
       "5-C15_2027_PRIFS20H_OCC_NTE_NES - copia.sav      51.319546  51.319546   \n",
       "5-C15_2027_PRIFS20H_OCC_NTE_NES.sav              51.319546  51.319546   \n",
       "\n",
       "                                                 TR-1 RAP  \n",
       "5-C15_2027_PRIFS20H_OCC_NTE_NES - copia (2).sav  224.8909  \n",
       "5-C15_2027_PRIFS20H_OCC_NTE_NES - copia.sav      224.8909  \n",
       "5-C15_2027_PRIFS20H_OCC_NTE_NES.sav              224.8909  "
      ]
     },
     "execution_count": 10,
     "metadata": {},
     "output_type": "execute_result"
    }
   ],
   "source": [
    "resultado = pd.DataFrame(caso_dic).transpose()\n",
    "resultado.set_axis(ELEM_NOM, axis=1, inplace=True)\n",
    "resultado"
   ]
  }
 ],
 "metadata": {
  "kernelspec": {
   "display_name": "Python 3.7.3 ('psspy37')",
   "language": "python",
   "name": "python3"
  },
  "language_info": {
   "codemirror_mode": {
    "name": "ipython",
    "version": 3
   },
   "file_extension": ".py",
   "mimetype": "text/x-python",
   "name": "python",
   "nbconvert_exporter": "python",
   "pygments_lexer": "ipython3",
   "version": "3.7.3"
  },
  "orig_nbformat": 4,
  "vscode": {
   "interpreter": {
    "hash": "730960a639850ff1a19b2752bee2e9f855e7694bb69699136642afcbd4c8ad5a"
   }
  }
 },
 "nbformat": 4,
 "nbformat_minor": 2
}
