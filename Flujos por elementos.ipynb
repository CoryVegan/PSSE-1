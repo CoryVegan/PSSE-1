{
 "cells": [
  {
   "cell_type": "markdown",
   "metadata": {},
   "source": [
    "# Revisión de Flujos de potencia de elementos en casos de PSS/E"
   ]
  },
  {
   "cell_type": "code",
   "execution_count": null,
   "metadata": {},
   "outputs": [],
   "source": [
    "import os\n",
    "import sys\n",
    "\n",
    "#Damos de alta los directorios de psse,para correrlo sin abrirlo\n",
    "\n",
    "PSSPY_location = r'C:\\Program Files\\PTI\\PSSE35\\35.3\\PSSPY39' #hay que cambiar la ruta dependianto si se usa psse34 o 35 tambien en base al python 2 o 3\n",
    "PSSE_location = r'C:\\Program Files\\PTI\\PSSE35\\35.3\\PSSBIN' #hay que cambiar la ruta dependianto si se usa psse34 o 35\n",
    "sys.path.append(PSSPY_location)\n",
    "sys.path.append(PSSE_location)\n",
    "os.environ['PATH'] += ';' + PSSPY_location\n",
    "os.environ['PATH'] += ';' + PSSE_location\n",
    "\n",
    "#Importamos librerias del PSS\n",
    "\n",
    "import psse35\n",
    "import psspy\n",
    "import redirect\n",
    "\n",
    "#Importamos librería de PEMs\n",
    "\n",
    "from src.PEMS import *\n",
    "\n",
    "redirect.psse2py()\n",
    "psspy.psseinit(50000)"
   ]
  },
  {
   "cell_type": "code",
   "execution_count": null,
   "metadata": {},
   "outputs": [],
   "source": [
    "CASOS_PATH = \"./casos/2023_20Hinvierno/\" # Ruta donde se guardan los archivos .sav (de acuerdo con la estructura del repositorio)\n",
    "casos_sav = os.listdir(CASOS_PATH) # Genera una lista con los nombres de "
   ]
  },
  {
   "cell_type": "code",
   "execution_count": null,
   "metadata": {},
   "outputs": [],
   "source": [
    "LIN_NOM = ['RAP - DMD',\n",
    "           'RAP - SLR']\n",
    "LINEAS = ['640004-5D-640099',\n",
    "          '640004-G1-32277']"
   ]
  },
  {
   "cell_type": "code",
   "execution_count": null,
   "metadata": {},
   "outputs": [],
   "source": [
    "def dic_flujos():\n",
    "    sid = 0\n",
    "    ierr = psspy.bsys(sid,\n",
    "                  1,[115.0,400.0],             #kv    filter\n",
    "                  0,[],                        #area  filter\n",
    "                  0,[],                        #bus   filter\n",
    "                  0,[],                        #owner filter\n",
    "                  0,[])                        #zone  filter\n",
    " \n",
    "    ierr, ids = psspy.abrnchar(0,1,3,4,2, string=[\"ID\"])\n",
    "    ierr, numeros = psspy.abrnint(0,1,3,4,2, string=[\"FROMNUMBER\",\"TONUMBER\"])\n",
    "    ierr, flujo = psspy.afloereal(0,1,3,4,4, string=[\"P\",\"Q\",\"MVA\",\"PLOSS\"])\n",
    "    #Crea claves de enlaces [#FROM_BUS - ID - #TO_BUS, #FROM_BUS - ID - #TO_BUS, ... ]\n",
    "    ramas_list = []\n",
    "    for elem in range(len(ids[0])):\n",
    "        ramas_list.append(str(numeros[0][elem]) + '-' + str(ids[0][elem]) + '-' + str(numeros[1][elem]))\n",
    "\n",
    "    valores = zip(*flujo)\n",
    "\n",
    "    #Crea diccionario, donde la llave es la clave del enlace y sus valores son los flujos de potencia por el elemento:\n",
    "    flujos_dict = {}\n",
    "    for i in range(len(flujo)):\n",
    "        flujos_dict[ramas_list[i]] = valores[i]\n",
    "    return flujos_dict"
   ]
  },
  {
   "cell_type": "code",
   "execution_count": null,
   "metadata": {},
   "outputs": [],
   "source": []
  },
  {
   "cell_type": "code",
   "execution_count": null,
   "metadata": {},
   "outputs": [],
   "source": [
    "\n",
    "#Busca los valores de los enlaces deseados\n",
    "f = []\n",
    "for linea in LINEAS:\n",
    "    f.append(flujos_dict[linea])\n"
   ]
  },
  {
   "cell_type": "code",
   "execution_count": null,
   "metadata": {},
   "outputs": [],
   "source": [
    "for caso in casos_sav:\n",
    "    psspy.case(os.path.abspath(\"casos/2023_20Hinvierno\" + caso))\n",
    "    "
   ]
  }
 ],
 "metadata": {
  "kernelspec": {
   "display_name": "Python 3.9.13 ('psspy39')",
   "language": "python",
   "name": "python3"
  },
  "language_info": {
   "name": "python",
   "version": "3.9.13"
  },
  "orig_nbformat": 4,
  "vscode": {
   "interpreter": {
    "hash": "3c6c54cd06a4ef50c6524d03d7762564c20173591bec6d09845b169cc987a52c"
   }
  }
 },
 "nbformat": 4,
 "nbformat_minor": 2
}
