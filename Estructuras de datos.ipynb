{
 "cells": [
  {
   "cell_type": "markdown",
   "metadata": {},
   "source": [
    "# Estructuras de datos en Python"
   ]
  },
  {
   "cell_type": "markdown",
   "metadata": {},
   "source": [
    "\n",
    "## 1. Variables\n",
    "\n",
    "### a. Tipo Strings\n",
    "\n",
    "\n",
    "\n",
    "#### Operaciones con cadenas de caracteres (split, regex, concatenar)\n",
    "\n",
    "### b. Tipo Numérico\n",
    "\n",
    "#### Enteros\n",
    "\n",
    "\n",
    "\n",
    "#### Punto flotante\n",
    "\n",
    "\n",
    "\n",
    "#### Complejos\n",
    "\n",
    "\n",
    "\n",
    "### c. Booleanos\n",
    "\n",
    "\n",
    "\n",
    "\n",
    "### d. Tipo Fecha\n",
    "\n",
    "\n",
    "---\n",
    "\n",
    "**Referencias:**\n",
    "\n",
    "_Python Crash Course_ [_(libro)_](https://drive.google.com/file/d/1-XGEYcyqMiST31ingDcUJrquFMP0C0Q4/view?usp=sharing)\n",
    "\n",
    "---"
   ]
  },
  {
   "cell_type": "markdown",
   "metadata": {},
   "source": [
    "## 2. Listas"
   ]
  },
  {
   "cell_type": "markdown",
   "metadata": {},
   "source": [
    "La Primera estructura y la más utilizada son las listas. Algunas de sus características son:\n",
    "\n",
    "+ Permite elementos duplicados \n",
    "+ Permite diferentes tipos de datos (enteros, bool, caracter, funciones, etc.) \n",
    "+ Se puede tener una o más listas dentro de una lista \n",
    "+ Formas de crear una lista \n",
    "\n",
    "Para crearlas se utilizan corchetes y dentro de los corchetes se ponen todos los elementos de la lista, separados por \"comas\". "
   ]
  },
  {
   "cell_type": "code",
   "execution_count": 24,
   "metadata": {},
   "outputs": [
    {
     "name": "stdout",
     "output_type": "stream",
     "text": [
      "[1, 2, 'manzana', True, [3, 1]]\n"
     ]
    }
   ],
   "source": [
    "x = [1, 2, \"manzana\", True, [3, 1]] \n",
    "print(x)"
   ]
  },
  {
   "cell_type": "markdown",
   "metadata": {},
   "source": [
    "**¿Cómo accesar a los elementos de una lista?**\n",
    "\n",
    "A través de los índices, cada elemento de la lista se le asigna un número que va del cero a \"n\" (el último elemento de la lista). Entre corchetes se especifica el índice del elemento al que se quiere accesar."
   ]
  },
  {
   "cell_type": "code",
   "execution_count": 8,
   "metadata": {},
   "outputs": [
    {
     "name": "stdout",
     "output_type": "stream",
     "text": [
      "x =  [1, 2, 'manzana', True, [3, 1]]\n",
      "x[0] =  [3, 1]\n",
      "x[1] =  True\n",
      "x[2] =  manzana\n"
     ]
    }
   ],
   "source": [
    "print(\"x = \", x)\n",
    "print(\"x[0] = \", x[-1])\n",
    "print(\"x[1] = \", x[-2])\n",
    "print(\"x[2] = \", x[-3])"
   ]
  },
  {
   "cell_type": "markdown",
   "metadata": {},
   "source": [
    "Para acceder a los elementos en forma inversa se utilizan indices negativos. el -1 nos devuelve el último elemento de la lista, el -2 el penúltimo y así sucesivamente..."
   ]
  },
  {
   "cell_type": "code",
   "execution_count": 9,
   "metadata": {},
   "outputs": [
    {
     "name": "stdout",
     "output_type": "stream",
     "text": [
      "x =  [1, 2, 'manzana', True, [3, 1]]\n",
      "x[-1] =  [3, 1]\n",
      "x[-2] =  True\n",
      "x[-3] =  manzana\n"
     ]
    }
   ],
   "source": [
    "print(\"x = \", x)\n",
    "print(\"x[-1] = \", x[-1])\n",
    "print(\"x[-2] = \", x[-2])\n",
    "print(\"x[-3] = \", x[-3])"
   ]
  },
  {
   "cell_type": "markdown",
   "metadata": {},
   "source": [
    "**Operaciones con listas** \n",
    "\n",
    "+ Iterar sobre cada elemento con un ciclo \"for\" "
   ]
  },
  {
   "cell_type": "code",
   "execution_count": 10,
   "metadata": {},
   "outputs": [
    {
     "name": "stdout",
     "output_type": "stream",
     "text": [
      "1\n",
      "2\n",
      "manzana\n",
      "True\n",
      "[3, 1]\n"
     ]
    }
   ],
   "source": [
    "for i in x:\n",
    "    print (i) \n"
   ]
  },
  {
   "cell_type": "markdown",
   "metadata": {},
   "source": [
    "+ Encontrar si algún elemento de la lista cumple con alguna condición "
   ]
  },
  {
   "cell_type": "code",
   "execution_count": 11,
   "metadata": {},
   "outputs": [
    {
     "name": "stdout",
     "output_type": "stream",
     "text": [
      "no\n"
     ]
    }
   ],
   "source": [
    "if 8 in x:\n",
    "    print ( \"si\") \n",
    "else:\n",
    "    print ( \"no\" ) "
   ]
  },
  {
   "cell_type": "markdown",
   "metadata": {},
   "source": [
    "+ Métodos o funciones que tiene el objeto lista. \n",
    "Un método se puede ver como una función que el propio Python tiene integrada y nos devuelve un resultado al aplicarse al objeto. \n",
    "\n",
    "> **Nota:** No todos los objetos tienen los mismos métodos o funciones propias.\n",
    "\n",
    "Para listas tenemos los siguientes métodos: \n",
    "\n",
    "+ **len( )** Devuelve la longitud de la lista. \n",
    "\n",
    "+ **append( )** Agrega un elemento al final de la lista, requiere un argumento \n",
    "\n",
    "+ **insert( )** Agrega un elemento en la posición que se le indique, requiere dos argumentos (posición, elemento) \n",
    "\n",
    "+ **pop( )** Borra el último elemento de la lista \n",
    "\n",
    "+ **remove( )** Borra el elemento especificado, requiere un argumento con el valor que se desee eliminar\n",
    "\n",
    "+ **del** Borra el elemento especificado, requiere un argumento con el índice\n",
    "\n",
    "+ **reverse( )** Pone al revés los elementos \n",
    "\n",
    "+ **sort( )** Ordena los elementos de la lista. No solo lo hace como ejercicio, el orden de la lista original se pierde -ojo-\n",
    "\n",
    "+ **clear( )** Borra todos los elementos, deja una lista vacía "
   ]
  },
  {
   "cell_type": "code",
   "execution_count": 25,
   "metadata": {},
   "outputs": [
    {
     "name": "stdout",
     "output_type": "stream",
     "text": [
      "x =  [1, 2, 'manzana', True, [3, 1]]\n",
      "len(x) =  5\n",
      "x.append(4) =  [1, 2, 'manzana', True, [3, 1], 4]\n",
      "x.insert(3,0) =  [1, 2, 'manzana', 0, True, [3, 1], 4]\n",
      "x.pop() =  [1, 2, 'manzana', 0, True, [3, 1]]\n",
      "x.remove('manzana') =  [1, 2, 0, True, [3, 1]]\n",
      "x.remove(True) =  [1, 2, 0, [3, 1]]\n",
      "x.reverse() =  [[3, 1], 0, 2, 1]\n"
     ]
    },
    {
     "ename": "TypeError",
     "evalue": "'<' not supported between instances of 'int' and 'list'",
     "output_type": "error",
     "traceback": [
      "\u001b[1;31m---------------------------------------------------------------------------\u001b[0m",
      "\u001b[1;31mTypeError\u001b[0m                                 Traceback (most recent call last)",
      "\u001b[1;32m~\\AppData\\Local\\Temp/ipykernel_23480/3651995490.py\u001b[0m in \u001b[0;36m<module>\u001b[1;34m\u001b[0m\n\u001b[0;32m     29\u001b[0m \u001b[1;33m\u001b[0m\u001b[0m\n\u001b[0;32m     30\u001b[0m \u001b[1;31m# sort()\u001b[0m\u001b[1;33m\u001b[0m\u001b[1;33m\u001b[0m\u001b[0m\n\u001b[1;32m---> 31\u001b[1;33m \u001b[0mx\u001b[0m\u001b[1;33m.\u001b[0m\u001b[0msort\u001b[0m\u001b[1;33m(\u001b[0m\u001b[1;33m)\u001b[0m\u001b[1;33m\u001b[0m\u001b[1;33m\u001b[0m\u001b[0m\n\u001b[0m\u001b[0;32m     32\u001b[0m \u001b[0mprint\u001b[0m\u001b[1;33m(\u001b[0m\u001b[1;34m\"x.sort() = \"\u001b[0m\u001b[1;33m,\u001b[0m \u001b[0mx\u001b[0m\u001b[1;33m)\u001b[0m\u001b[1;33m\u001b[0m\u001b[1;33m\u001b[0m\u001b[0m\n\u001b[0;32m     33\u001b[0m \u001b[1;33m\u001b[0m\u001b[0m\n",
      "\u001b[1;31mTypeError\u001b[0m: '<' not supported between instances of 'int' and 'list'"
     ]
    }
   ],
   "source": [
    "print(\"x = \", x)\n",
    "\n",
    "# len()\n",
    "print(\"len(x) = \", len(x))\n",
    "\n",
    "# append()\n",
    "x.append(4)\n",
    "print(\"x.append(4) = \", x)\n",
    "\n",
    "#insert()\n",
    "x.insert(3,0)\n",
    "print(\"x.insert(3,0) = \", x)\n",
    "\n",
    "# pop()\n",
    "x.pop()\n",
    "print(\"x.pop() = \", x)\n",
    "\n",
    "# remove()\n",
    "x.remove('manzana')\n",
    "print(\"x.remove('manzana') = \", x)\n",
    "\n",
    "# del\n",
    "del x[3]\n",
    "print(\"del x[3] = \", x)\n",
    "\n",
    "# reverse()\n",
    "x.reverse()\n",
    "print(\"x.reverse() = \", x)\n",
    "\n",
    "# sort()\n",
    "x.sort()\n",
    "print(\"x.sort() = \", x)\n",
    "\n",
    "# clear()\n",
    "x.clear()\n",
    "print(\"x.clear() = \", x)"
   ]
  },
  {
   "cell_type": "markdown",
   "metadata": {},
   "source": [
    "\n",
    "Otras operaciones con listas \n",
    "\n",
    "* Agrega el número de elementos que se le indiquen (repetidos) \n",
    "\n",
    "y = [o] * 5 → [0, 0, 0, 0, O] \n",
    "\n",
    "+ Concatena listas \n",
    "\n",
    "+ y → \n",
    "\n",
    "Obtener partes de una lista especificando los índices de los elementos que queremos \n",
    "a = ✗ [0: 2] → [1, 2, \"manzana\"] \n",
    "\n",
    "Si no se especifica índice de inicio empieza desde el primer elemento de la lista. y si no se especifica indice final toma hasta el Último elemento \n",
    "\n",
    "[: 3] ✗ [2:] \n",
    "\n",
    "También hay una forma de indicar el paso con que se quiere recorrer con dos puntos. Por ejemplo \n",
    "\n",
    "[:: 1] recorre toda la lista desde el inicio hasta el final con un \n",
    "\n",
    "paso de 1 Les decir elemento a elemento) \n",
    "\n",
    "Tener cuidado cuando se hagan copias de listas, porque se modifican \n",
    "por igual. \n",
    "\n",
    "_new = × \n",
    "\n",
    "Si, usamos esta forma de crear una lista nueva con los mismos elementos y haceros alguna modificación a la lista Cavalquiera de ellas) la otra también verá reflejados esos cambios. \n",
    "Esto sucede porque al igualar las variables (listas) se apuntan a la misma lista que está en memoria, no se genera una lista never como uno lo esperaría. Para hacer esta operación, de general efectivamente 2 listas se utiliza el método copy L) \n",
    "\n",
    "_new = ✗ -copy C) \n",
    "\n",
    "Otras formas de hacerlo: X-new = list (x) ó ✗ _new = × [:] \n",
    "\n",
    "List Comprehension \n",
    "Hacer operaciones con cada elemento de la lista y devolver una listen \n",
    "nueva con el resultado de las operaciones. \n",
    "z = [1, 2, 3, 4] \n",
    "o = [¿* i for i in Z] → [1, 4, 9, 16] "
   ]
  },
  {
   "cell_type": "markdown",
   "metadata": {},
   "source": []
  }
 ],
 "metadata": {
  "kernelspec": {
   "display_name": "Python 3.9.7 ('base')",
   "language": "python",
   "name": "python3"
  },
  "language_info": {
   "codemirror_mode": {
    "name": "ipython",
    "version": 3
   },
   "file_extension": ".py",
   "mimetype": "text/x-python",
   "name": "python",
   "nbconvert_exporter": "python",
   "pygments_lexer": "ipython3",
   "version": "3.9.7"
  },
  "orig_nbformat": 4,
  "vscode": {
   "interpreter": {
    "hash": "b33d1c799ecfb8631b1d241a102d01a7a2081d24334ca20082a6af5b3d994f65"
   }
  }
 },
 "nbformat": 4,
 "nbformat_minor": 2
}
