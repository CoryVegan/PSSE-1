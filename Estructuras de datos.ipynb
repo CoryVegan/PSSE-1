{
 "cells": [
  {
   "cell_type": "markdown",
   "metadata": {},
   "source": [
    "# Estructuras de datos en Python"
   ]
  },
  {
   "cell_type": "markdown",
   "metadata": {},
   "source": [
    "\n",
    "## 1. Variables\n",
    "\n",
    "### a. Tipo Strings\n",
    "\n",
    "+ Métodos para variables tipo _String_\n",
    "\n",
    "<p align = \"left\">\n",
    "    <img src=\"images/strings_methods.png\" width=\"350\" height=\"400\" />\n",
    "\n",
    "+ Operaciones con cadenas de caracteres (_split_, _RegEx_, _(+ *) operators_, _length_, ...)\n",
    "\n",
    "### b. Tipo Numérico\n",
    "\n",
    "#### Enteros\n",
    "\n",
    "+ Métodos\n",
    "\n",
    "+ Operaciones\n",
    "\n",
    "#### Punto flotante\n",
    "\n",
    "+ Métodos\n",
    "\n",
    "+ Operaciones\n",
    "\n",
    "#### Complejos\n",
    "\n",
    "+ Métodos\n",
    "\n",
    "+ Operaciones\n",
    "\n",
    "### c. Tipo Booleano\n",
    "\n",
    "+ Métodos\n",
    "\n",
    "+ Operaciones\n",
    "\n",
    "### d. Tipo Fecha\n",
    "\n",
    "\n",
    "---\n",
    "\n",
    "### **Referencias:**\n",
    "\n",
    "> _Python Crash Course_ [_(libro)_](https://drive.google.com/file/d/1-XGEYcyqMiST31ingDcUJrquFMP0C0Q4/view?usp=sharing)\n",
    "\n",
    "> _Learn Python the Hard Way (LPTHW)_ [_(libro_)](https://drive.google.com/file/d/1YhUNrx_H9w1a__I7ZO2RdJR5-w_hFYhQ/view?usp=sharing)\n",
    "\n",
    "> _Python for begginers/String manipulation_ [_(página)_](https://www.pythonforbeginners.com/basics/string-manipulation-in-python)\n",
    "\n",
    "> _Geeks for geeks/Python-RegEx_ [_(página)_](https://www.geeksforgeeks.org/python-regex/)\n",
    "\n",
    "> _Programiz/regex_ [_(página)_](https://www.programiz.com/python-programming/regex)\n",
    "\n",
    "> _Programa en Python/Fechas y horas en Python_ [_(página)_](https://www.programaenpython.com/fundamentos/fechas-y-horas-en-python/)\n",
    "\n",
    "> _W3 School/Python tutorial_ [_(página)_](https://www.w3schools.com/python/default.asp)\n",
    "\n",
    "---"
   ]
  },
  {
   "cell_type": "markdown",
   "metadata": {},
   "source": [
    "## 2. Listas"
   ]
  },
  {
   "cell_type": "markdown",
   "metadata": {},
   "source": [
    "La Primera estructura y la más utilizada son las listas. Algunas de sus características son:\n",
    "\n",
    "+ Permite elementos duplicados \n",
    "+ Permite diferentes tipos de datos (enteros, bool, caracter, funciones, etc.) \n",
    "+ Se puede tener una o más listas dentro de una lista \n",
    "+ Formas de crear una lista \n",
    "\n",
    "Para crearlas se utilizan corchetes y dentro de los corchetes se ponen todos los elementos de la lista, separados por \"comas\". "
   ]
  },
  {
   "cell_type": "code",
   "execution_count": 31,
   "metadata": {},
   "outputs": [
    {
     "name": "stdout",
     "output_type": "stream",
     "text": [
      "[1, 2, 'manzana', True, [3, 1]]\n"
     ]
    }
   ],
   "source": [
    "def crea_lista():\n",
    "    x = [1, 2, \"manzana\", True, [3, 1]]\n",
    "    return x\n",
    "\n",
    "print(crea_lista())"
   ]
  },
  {
   "cell_type": "markdown",
   "metadata": {},
   "source": [
    "### **¿Cómo accesar a los elementos de una lista?**\n",
    "\n",
    "A través de los índices, cada elemento de la lista se le asigna un número que va del cero a \"n\" (el último elemento de la lista). Entre corchetes se especifica el índice del elemento al que se quiere accesar."
   ]
  },
  {
   "cell_type": "code",
   "execution_count": 32,
   "metadata": {},
   "outputs": [
    {
     "name": "stdout",
     "output_type": "stream",
     "text": [
      "x =  [1, 2, 'manzana', True, [3, 1]]\n",
      "x[1] =  2\n",
      "x[2] =  manzana\n",
      "x[3] =  True\n"
     ]
    }
   ],
   "source": [
    "x = crea_lista()\n",
    "print(\"x = \", x)\n",
    "print(\"x[1] = \", x[1])\n",
    "print(\"x[2] = \", x[2])\n",
    "print(\"x[3] = \", x[3])"
   ]
  },
  {
   "cell_type": "markdown",
   "metadata": {},
   "source": [
    "> **Nota:** Los índices empiezan con el número cero (0), de forma que el índice número 1 se refiere al segundo elemento de la lista"
   ]
  },
  {
   "cell_type": "markdown",
   "metadata": {},
   "source": [
    "Para acceder a los elementos en forma inversa se utilizan indices negativos. el -1 nos devuelve el último elemento de la lista, el -2 el penúltimo y así sucesivamente..."
   ]
  },
  {
   "cell_type": "code",
   "execution_count": 33,
   "metadata": {},
   "outputs": [
    {
     "name": "stdout",
     "output_type": "stream",
     "text": [
      "x =  [1, 2, 'manzana', True, [3, 1]]\n",
      "x[-1] =  [3, 1]\n",
      "x[-2] =  True\n",
      "x[-3] =  manzana\n"
     ]
    }
   ],
   "source": [
    "print(\"x = \", x)\n",
    "print(\"x[-1] = \", x[-1])\n",
    "print(\"x[-2] = \", x[-2])\n",
    "print(\"x[-3] = \", x[-3])"
   ]
  },
  {
   "cell_type": "markdown",
   "metadata": {},
   "source": [
    "### **Operaciones con listas** \n",
    "\n",
    "+ Iterar sobre cada elemento con un ciclo \"_for_\" "
   ]
  },
  {
   "cell_type": "code",
   "execution_count": 34,
   "metadata": {},
   "outputs": [
    {
     "name": "stdout",
     "output_type": "stream",
     "text": [
      "1\n",
      "2\n",
      "manzana\n",
      "True\n",
      "[3, 1]\n"
     ]
    }
   ],
   "source": [
    "for elemento in x:\n",
    "    print (elemento) \n"
   ]
  },
  {
   "cell_type": "markdown",
   "metadata": {},
   "source": [
    "+ Encontrar si algún elemento de la lista cumple con alguna condición "
   ]
  },
  {
   "cell_type": "code",
   "execution_count": 35,
   "metadata": {},
   "outputs": [
    {
     "name": "stdout",
     "output_type": "stream",
     "text": [
      "no\n"
     ]
    }
   ],
   "source": [
    "if 8 in x:\n",
    "    print ( \"si\") \n",
    "else:\n",
    "    print ( \"no\" ) "
   ]
  },
  {
   "cell_type": "markdown",
   "metadata": {},
   "source": [
    "+ Métodos o funciones que tiene el **objeto lista**. \n",
    "Un método se puede ver como una función que el propio Python tiene integrada y nos devuelve un resultado al aplicarse al objeto. \n",
    "\n",
    "> **Nota:** No todos los **objetos** tienen los mismos métodos o funciones propias.\n",
    "\n",
    "Para listas tenemos los siguientes métodos: \n",
    "\n",
    "+ **len( )** Devuelve la longitud de la lista. \n",
    "\n",
    "+ **append( )** Agrega un elemento al final de la lista, requiere un argumento \n",
    "\n",
    "+ **insert( )** Agrega un elemento en la posición que se le indique, requiere dos argumentos (posición, elemento) \n",
    "\n",
    "+ **pop( )** Borra el último elemento de la lista \n",
    "\n",
    "+ **remove( )** Borra el elemento especificado, requiere un argumento con el valor que se desee eliminar\n",
    "\n",
    "+ **del** Borra el elemento especificado, requiere un argumento con el índice\n",
    "\n",
    "+ **reverse( )** Pone al revés los elementos \n",
    "\n",
    "+ **sort( )** Ordena los elementos de la lista. No solo lo hace como ejercicio, el orden de la lista original se pierde -ojo-\n",
    "\n",
    "+ **clear( )** Borra todos los elementos, deja una lista vacía "
   ]
  },
  {
   "cell_type": "code",
   "execution_count": 36,
   "metadata": {},
   "outputs": [
    {
     "name": "stdout",
     "output_type": "stream",
     "text": [
      "x =  [1, 2, 'manzana', True, [3, 1]]\n",
      "len(x) =  5\n",
      "x.append(4) =  [1, 2, 'manzana', True, [3, 1], 4]\n",
      "x.insert(3,0) =  [1, 2, 'manzana', 0, True, [3, 1], 4]\n",
      "x.pop() =  [1, 2, 'manzana', 0, True, [3, 1]]\n",
      "x.remove('manzana') =  [1, 2, 0, True, [3, 1]]\n",
      "del x[3] =  [1, 2, 0, [3, 1]]\n",
      "x.reverse() =  [[3, 1], 0, 2, 1]\n"
     ]
    },
    {
     "ename": "TypeError",
     "evalue": "'<' not supported between instances of 'int' and 'list'",
     "output_type": "error",
     "traceback": [
      "\u001b[1;31m---------------------------------------------------------------------------\u001b[0m",
      "\u001b[1;31mTypeError\u001b[0m                                 Traceback (most recent call last)",
      "\u001b[1;32m~\\AppData\\Local\\Temp/ipykernel_23184/2034481068.py\u001b[0m in \u001b[0;36m<module>\u001b[1;34m\u001b[0m\n\u001b[0;32m     29\u001b[0m \u001b[1;33m\u001b[0m\u001b[0m\n\u001b[0;32m     30\u001b[0m \u001b[1;31m# sort()\u001b[0m\u001b[1;33m\u001b[0m\u001b[1;33m\u001b[0m\u001b[0m\n\u001b[1;32m---> 31\u001b[1;33m \u001b[0mx\u001b[0m\u001b[1;33m.\u001b[0m\u001b[0msort\u001b[0m\u001b[1;33m(\u001b[0m\u001b[1;33m)\u001b[0m\u001b[1;33m\u001b[0m\u001b[1;33m\u001b[0m\u001b[0m\n\u001b[0m\u001b[0;32m     32\u001b[0m \u001b[0mprint\u001b[0m\u001b[1;33m(\u001b[0m\u001b[1;34m\"x.sort() = \"\u001b[0m\u001b[1;33m,\u001b[0m \u001b[0mx\u001b[0m\u001b[1;33m)\u001b[0m\u001b[1;33m\u001b[0m\u001b[1;33m\u001b[0m\u001b[0m\n",
      "\u001b[1;31mTypeError\u001b[0m: '<' not supported between instances of 'int' and 'list'"
     ]
    }
   ],
   "source": [
    "print(\"x = \", x)\n",
    "\n",
    "# len()\n",
    "print(\"len(x) = \", len(x))\n",
    "\n",
    "# append()\n",
    "x.append(4)\n",
    "print(\"x.append(4) = \", x)\n",
    "\n",
    "#insert()\n",
    "x.insert(3,0)\n",
    "print(\"x.insert(3,0) = \", x)\n",
    "\n",
    "# pop()\n",
    "x.pop()\n",
    "print(\"x.pop() = \", x)\n",
    "\n",
    "# remove()\n",
    "x.remove('manzana')\n",
    "print(\"x.remove('manzana') = \", x)\n",
    "\n",
    "# del\n",
    "del x[3]\n",
    "print(\"del x[3] = \", x)\n",
    "\n",
    "# reverse()\n",
    "x.reverse()\n",
    "print(\"x.reverse() = \", x)\n",
    "\n",
    "# sort()\n",
    "x.sort()\n",
    "print(\"x.sort() = \", x)\n"
   ]
  },
  {
   "cell_type": "markdown",
   "metadata": {},
   "source": [
    "--- \n",
    "> **Ejercicio:** Explicar por qué se presenta el error en la instrucción de arriba y corregirlo.\n",
    "\n",
    "**Pista:** Listas Anidadas\n",
    "\n",
    "---"
   ]
  },
  {
   "cell_type": "code",
   "execution_count": 37,
   "metadata": {},
   "outputs": [
    {
     "name": "stdout",
     "output_type": "stream",
     "text": [
      "x.clear() =  []\n"
     ]
    }
   ],
   "source": [
    "# clear()\n",
    "x.clear()\n",
    "print(\"x.clear() = \", x)"
   ]
  },
  {
   "cell_type": "markdown",
   "metadata": {},
   "source": [
    "### **Otras operaciones con listas**\n",
    "\n",
    "* **(_*_)** Multiplicar elementos de la lista.  "
   ]
  },
  {
   "cell_type": "code",
   "execution_count": 56,
   "metadata": {},
   "outputs": [
    {
     "name": "stdout",
     "output_type": "stream",
     "text": [
      "[0, 1, 0, 1, 0, 1]\n"
     ]
    }
   ],
   "source": [
    "y = [0,1] * 3 \n",
    "print(y) "
   ]
  },
  {
   "cell_type": "markdown",
   "metadata": {},
   "source": [
    "+ **(_+_)** Concatena listas "
   ]
  },
  {
   "cell_type": "code",
   "execution_count": 57,
   "metadata": {},
   "outputs": [
    {
     "name": "stdout",
     "output_type": "stream",
     "text": [
      "y + x =  [0, 1, 0, 1, 0, 1, 1, 2, 'manzana', True, [3, 1]]\n"
     ]
    }
   ],
   "source": [
    "x = crea_lista()\n",
    "c = y + x\n",
    "print(\"y + x = \", c)"
   ]
  },
  {
   "cell_type": "markdown",
   "metadata": {},
   "source": [
    "+ Obtener partes o porciones de una lista (_slices_). Para ello se especifican los índices de la porción que queremos. "
   ]
  },
  {
   "cell_type": "code",
   "execution_count": 58,
   "metadata": {},
   "outputs": [
    {
     "name": "stdout",
     "output_type": "stream",
     "text": [
      "c =  [0, 1, 0, 1, 0, 1, 1, 2, 'manzana', True, [3, 1]]\n",
      "La primer tercia de elementos de la lista es: c[0:3] =  [0, 1, 0]\n",
      "La segunda tercia de elementos de la lista es: c[3:6] =  [1, 0, 1]\n"
     ]
    }
   ],
   "source": [
    "print(\"c = \", c)\n",
    "print(\"La primer tercia de elementos de la lista es: c[0:3] = \", c[0:3])\n",
    "print(\"La segunda tercia de elementos de la lista es: c[3:6] = \", c[3:6])"
   ]
  },
  {
   "cell_type": "markdown",
   "metadata": {},
   "source": [
    "Si no se especifica índice de inicio empieza desde el primer elemento de la lista y si no se especifica indice final toma hasta el último elemento"
   ]
  },
  {
   "cell_type": "code",
   "execution_count": 59,
   "metadata": {},
   "outputs": [
    {
     "name": "stdout",
     "output_type": "stream",
     "text": [
      "c =  [0, 1, 0, 1, 0, 1, 1, 2, 'manzana', True, [3, 1]]\n",
      "Los elementos del inicio hasta la posición 5 son: c[ :5] =  [0, 1, 0, 1, 0]\n",
      "Los elementos de la posición 5 hasta el final son: c[5: ] =  [1, 1, 2, 'manzana', True, [3, 1]]\n"
     ]
    }
   ],
   "source": [
    "print(\"c = \", c)\n",
    "print(\"Los elementos del inicio hasta la posición 5 son: c[ :5] = \", c[:5])\n",
    "print(\"Los elementos de la posición 5 hasta el final son: c[5: ] = \", c[5:])"
   ]
  },
  {
   "cell_type": "markdown",
   "metadata": {},
   "source": [
    "También hay una forma de indicar el paso con que se quiere recorrer la lista. Utilizando doble vez los dos puntos \": :\"\n",
    "\n",
    "Por ejemplo: \n",
    "\n",
    "[ : : 1 ] recorre toda la lista desde el inicio hasta el final con un paso de 1 (es decir elemento a elemento)"
   ]
  },
  {
   "cell_type": "code",
   "execution_count": 60,
   "metadata": {},
   "outputs": [
    {
     "name": "stdout",
     "output_type": "stream",
     "text": [
      "Recorriendo uno por uno todos los elementos de la lista: c[::1] =  [0, 1, 0, 1, 0, 1, 1, 2, 'manzana', True, [3, 1]]\n",
      "Recorriendo cada dos elementos de la lista: c[::2] =  [0, 0, 0, 1, 'manzana', [3, 1]]\n",
      "Recorriendo cada dos elementos de la lista a partir de la posición 3: c[3::2] =  [1, 1, 2, True]\n"
     ]
    }
   ],
   "source": [
    "print(\"Recorriendo uno por uno todos los elementos de la lista: c[::1] = \", c[::1])\n",
    "print(\"Recorriendo cada dos elementos de la lista: c[::2] = \", c[::2])\n",
    "print(\"Recorriendo cada dos elementos de la lista a partir de la posición 3: c[3::2] = \", c[3::2])"
   ]
  },
  {
   "cell_type": "markdown",
   "metadata": {},
   "source": [
    "> **Nota:** Tener cuidado cuando se igualen dos variables con una misma lista, porque se modifican por igual."
   ]
  },
  {
   "cell_type": "markdown",
   "metadata": {},
   "source": [
    "Si creamos una nueva variable \"c_new\" y la igualamos a nuestra lista \"c\", uno esperaría que se creara una copia de la lista \"c\" en la variable \"d\", sin embargo no es así."
   ]
  },
  {
   "cell_type": "code",
   "execution_count": 61,
   "metadata": {},
   "outputs": [
    {
     "name": "stdout",
     "output_type": "stream",
     "text": [
      " Esto crea una variable adicional que apuntan a una misma lista: c_new = c =  [0, 1, 0, 1, 0, 1, 1, 2, 'manzana', True, [3, 1]]\n"
     ]
    }
   ],
   "source": [
    "c_new = c\n",
    "print(\" Esto crea una variable adicional que apuntan a una misma lista: c_new = c = \", c_new)"
   ]
  },
  {
   "cell_type": "markdown",
   "metadata": {},
   "source": [
    "Si modificamos cualquiera de las dos variables (**c** ó **c_new**) se modificarán las dos. Ya que es una única lista de acuerdo a la igualdad anterior."
   ]
  },
  {
   "cell_type": "code",
   "execution_count": 62,
   "metadata": {},
   "outputs": [
    {
     "name": "stdout",
     "output_type": "stream",
     "text": [
      "Modificamos únicamente la lista c: c.append(False) =  [0, 1, 0, 1, 0, 1, 1, 2, 'manzana', True, [3, 1], False]\n",
      "Vemos que también afectó a c_new: c_new =  [0, 1, 0, 1, 0, 1, 1, 2, 'manzana', True, [3, 1], False]\n"
     ]
    }
   ],
   "source": [
    "c.append(False)\n",
    "print(\"Modificamos únicamente la lista c: c.append(False) = \", c)\n",
    "print(\"Vemos que también afectó a c_new: c_new = \", c_new)"
   ]
  },
  {
   "cell_type": "markdown",
   "metadata": {},
   "source": [
    "Si usamos esta forma de crear una lista nueva con los mismos elementos de una existente y hacemos alguna modificación a la lista (cualquiera de ellas) la otra también verá reflejados esos cambios.\n",
    "\n",
    "Esto sucede porque al igualar los objetos listas se apuntan a una misma lista que está en memoria y no se genera una lista nueva. Para hacer esta operación, de generar efectivamente 2 listas, se utiliza el método **copy ( )**: "
   ]
  },
  {
   "cell_type": "code",
   "execution_count": 63,
   "metadata": {},
   "outputs": [
    {
     "name": "stdout",
     "output_type": "stream",
     "text": [
      "Creamos una copia de la lista c y la almacenamos en c_new: c_new = c.copy() ->  [0, 1, 0, 1, 0, 1, 1, 2, 'manzana', True, [3, 1], False]\n",
      "Modificamos únicamente la lista c: c.append(54) =  [0, 1, 0, 1, 0, 1, 1, 2, 'manzana', True, [3, 1], False, 54]\n",
      "Vemos que no afectó a c_new: c_new =  [0, 1, 0, 1, 0, 1, 1, 2, 'manzana', True, [3, 1], False]\n"
     ]
    }
   ],
   "source": [
    "c_new = c.copy()\n",
    "print(\"Creamos una copia de la lista c y la almacenamos en c_new: c_new = c.copy() -> \", c)\n",
    "c.append(54)\n",
    "print(\"Modificamos únicamente la lista c: c.append(54) = \", c)\n",
    "print(\"Vemos que no afectó a c_new: c_new = \", c_new)"
   ]
  },
  {
   "cell_type": "markdown",
   "metadata": {},
   "source": [
    "Otras formas de hacerlo:\n",
    "\n",
    "```\n",
    "\n",
    "c_new = list(c) \n",
    "c_new = c[:]\n",
    "\n",
    "```"
   ]
  },
  {
   "cell_type": "markdown",
   "metadata": {},
   "source": [
    "### List Comprehension \n",
    "\n",
    "Hacer operaciones con cada elemento de la lista y devolver otra lista con el resultado de las operaciones. "
   ]
  },
  {
   "cell_type": "code",
   "execution_count": 64,
   "metadata": {},
   "outputs": [
    {
     "name": "stdout",
     "output_type": "stream",
     "text": [
      "El resultado de elevar al cuadrado cada elemento de la lista z: [i**2 for i in z] =  [1, 4, 9, 16]\n"
     ]
    }
   ],
   "source": [
    "z = [1, 2, 3, 4] \n",
    "o = [i**2 for i in z]\n",
    "print(\"El resultado de elevar al cuadrado cada elemento de la lista z: [i**2 for i in z] = \", o)"
   ]
  },
  {
   "cell_type": "markdown",
   "metadata": {},
   "source": [
    "<p align = \"left\">\n",
    "    <img src=\"images/python_joke.jpeg\" width=\"350\" height=\"400\" />\n"
   ]
  }
 ],
 "metadata": {
  "kernelspec": {
   "display_name": "Python 3.9.7 ('base')",
   "language": "python",
   "name": "python3"
  },
  "language_info": {
   "codemirror_mode": {
    "name": "ipython",
    "version": 3
   },
   "file_extension": ".py",
   "mimetype": "text/x-python",
   "name": "python",
   "nbconvert_exporter": "python",
   "pygments_lexer": "ipython3",
   "version": "3.9.7"
  },
  "orig_nbformat": 4,
  "vscode": {
   "interpreter": {
    "hash": "b33d1c799ecfb8631b1d241a102d01a7a2081d24334ca20082a6af5b3d994f65"
   }
  }
 },
 "nbformat": 4,
 "nbformat_minor": 2
}
