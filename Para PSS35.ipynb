{
 "cells": [
  {
   "cell_type": "code",
   "execution_count": 3,
   "metadata": {},
   "outputs": [
    {
     "ename": "ImportError",
     "evalue": "bad magic number in 'psseloc': b'B\\r\\r\\n'",
     "output_type": "error",
     "traceback": [
      "\u001b[1;31m---------------------------------------------------------------------------\u001b[0m",
      "\u001b[1;31mImportError\u001b[0m                               Traceback (most recent call last)",
      "\u001b[1;32mc:\\Users\\10243\\Desktop\\PSSE\\Para PSS35.ipynb Celda 1\u001b[0m in \u001b[0;36m<cell line: 12>\u001b[1;34m()\u001b[0m\n\u001b[0;32m     <a href='vscode-notebook-cell:/c%3A/Users/10243/Desktop/PSSE/Para%20PSS35.ipynb#W0sZmlsZQ%3D%3D?line=9'>10</a>\u001b[0m \u001b[39mimport\u001b[39;00m \u001b[39mos\u001b[39;00m\n\u001b[0;32m     <a href='vscode-notebook-cell:/c%3A/Users/10243/Desktop/PSSE/Para%20PSS35.ipynb#W0sZmlsZQ%3D%3D?line=10'>11</a>\u001b[0m \u001b[39mimport\u001b[39;00m \u001b[39msys\u001b[39;00m\n\u001b[1;32m---> <a href='vscode-notebook-cell:/c%3A/Users/10243/Desktop/PSSE/Para%20PSS35.ipynb#W0sZmlsZQ%3D%3D?line=11'>12</a>\u001b[0m \u001b[39mimport\u001b[39;00m \u001b[39mpsse35\u001b[39;00m\n\u001b[0;32m     <a href='vscode-notebook-cell:/c%3A/Users/10243/Desktop/PSSE/Para%20PSS35.ipynb#W0sZmlsZQ%3D%3D?line=12'>13</a>\u001b[0m \u001b[39mimport\u001b[39;00m \u001b[39mpsspy\u001b[39;00m\n\u001b[0;32m     <a href='vscode-notebook-cell:/c%3A/Users/10243/Desktop/PSSE/Para%20PSS35.ipynb#W0sZmlsZQ%3D%3D?line=13'>14</a>\u001b[0m \u001b[39mimport\u001b[39;00m \u001b[39mredirect\u001b[39;00m\n",
      "File \u001b[1;32mC:\\Program Files\\PTI\\PSSE35\\35.0\\PSSPY37\\psse35.py:27\u001b[0m, in \u001b[0;36m<module>\u001b[1;34m\u001b[0m\n\u001b[0;32m      1\u001b[0m \u001b[39m#[psse35.py]    07/18/2019    Set PSSE Environment\u001b[39;00m\n\u001b[0;32m      2\u001b[0m \u001b[39m\"\"\"\u001b[39;00m\n\u001b[0;32m      3\u001b[0m \u001b[39mUse \"import psse35\" to set PSSE 35 Environment to enable PSSE run outside of PSSE GUI,\u001b[39;00m\n\u001b[0;32m      4\u001b[0m \u001b[39mfrom any Python interpreter.\u001b[39;00m\n\u001b[1;32m   (...)\u001b[0m\n\u001b[0;32m     24\u001b[0m \n\u001b[0;32m     25\u001b[0m \u001b[39m\"\"\"\u001b[39;00m\n\u001b[1;32m---> 27\u001b[0m \u001b[39mimport\u001b[39;00m \u001b[39mos\u001b[39;00m\u001b[39m,\u001b[39m \u001b[39mpsseloc\u001b[39;00m\n\u001b[0;32m     29\u001b[0m _FPTH, _FNAM_EXT \u001b[39m=\u001b[39m os\u001b[39m.\u001b[39mpath\u001b[39m.\u001b[39msplit(os\u001b[39m.\u001b[39mpath\u001b[39m.\u001b[39mabspath( \u001b[39m__file__\u001b[39m ))\n\u001b[0;32m     30\u001b[0m _FNAM, _FEXT     \u001b[39m=\u001b[39m os\u001b[39m.\u001b[39mpath\u001b[39m.\u001b[39msplitext(_FNAM_EXT)\n",
      "\u001b[1;31mImportError\u001b[0m: bad magic number in 'psseloc': b'B\\r\\r\\n'"
     ]
    }
   ],
   "source": [
    "#Damos de alta los directorios de psse,para correrlo sin abrirlo\n",
    "\n",
    "PSSPY_location = r'C:\\Program Files\\PTI\\PSSE35\\35.0\\PSSPY37' #hay que cambiar la ruta dependianto si se usa psse34 o 35 tambien en base al python 2 o 3\n",
    "PSSE_location = r'C:\\Program Files\\PTI\\PSSE35\\35.0\\PSSBIN' #hay que cambiar la ruta dependianto si se usa psse34 o 35\n",
    "sys.path.append(PSSPY_location)\n",
    "sys.path.append(PSSE_location)\n",
    "os.environ['PATH'] += ';' + PSSPY_location\n",
    "os.environ['PATH'] += ';' + PSSE_location\n",
    "\n",
    "import os\n",
    "import sys\n",
    "import psse35\n",
    "import psspy\n",
    "import redirect\n",
    "\n",
    "redirect.psse2py()\n",
    "psspy.psseinit(50000)"
   ]
  }
 ],
 "metadata": {
  "kernelspec": {
   "display_name": "Python 3.9.13 ('pss')",
   "language": "python",
   "name": "python3"
  },
  "language_info": {
   "codemirror_mode": {
    "name": "ipython",
    "version": 3
   },
   "file_extension": ".py",
   "mimetype": "text/x-python",
   "name": "python",
   "nbconvert_exporter": "python",
   "pygments_lexer": "ipython3",
   "version": "3.9.13"
  },
  "orig_nbformat": 4,
  "vscode": {
   "interpreter": {
    "hash": "84b002ad55c7e294b389aea68ad9e0b7557cde9a9ac8af7563fa0a0685887174"
   }
  }
 },
 "nbformat": 4,
 "nbformat_minor": 2
}
