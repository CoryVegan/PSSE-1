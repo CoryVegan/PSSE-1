{
 "cells": [
  {
   "cell_type": "markdown",
   "metadata": {},
   "source": [
    "# Utilización de Jupyter Note Books para manejo del PSS/E\n",
    "\n",
    "---\n",
    "\n",
    "## Introducción a los Note Books\n",
    "\n",
    "En este **NoteBook** de introducción se explica y ejemplifica la utilización de Note Books con PSS/E, con la finalidad de mostrar y discutir las ventajas y desventajas que tiene utilizar esta funcionalidad interactiva de _Python_.\n",
    "\n",
    " El primer comentario que se hace es que una de las mayores ventajas de esta herramienta es que nos permite ejecutar porciones de código (_chunks_) dentro de un ambiente controlado y preparado para utilizar _Python_ en cualquier momento. Para quienes hayan tenido oportunidad de trabajar con _R Markdown_ observarán que es algo muy parecido.\n",
    " \n",
    " **Nota:** En los videos que se muestran en la _wiki_ del repositorio de esta [liga](https://github.com/urieluard/PSSE/wiki) podrán encontrar tutoriales (videos) que muestran la utilización de los comandos más importantes y que se requieren para ejecutar este Note Book, por lo tanto, si no los han visto recomiendo los revisen antes de continuar. \n",
    " \n",
    " ## Librerías requeridas (PSSPY y PSS/E)\n",
    "\n",
    " En el _Readme_ del [repositorio](https://github.com/urieluard/PSSE/blob/main/README.md) creado para este proyecto se menciona que las librerías para comunicar o ejecutar funciones de **PSS/E** mediante _Python_ se llama **PSSPY**, que existen diferentes versiones de esta librería y que depende del ambiente en el que se esté trabajando, tanto de _Python_ como de **PSS/E** es la versión que debemos tener instalada e instanciada.\n",
    "\n",
    " Para la utilización de los Note Books es necesario \"instanciar\" o indicar a la interfase (Visual Studio Code en este caso) cuál _Kernel_ utilizar (la palabra [_Kernel_](https://es.wikipedia.org/wiki/N%C3%BAcleo_(inform%C3%A1tica)) en informática se refiere a núcleo o parte fundamental del sistema operativo que se pretende ejecutar para alguna tarea en específico). En nuestro caso, el _Kernel_ que se utiliza es _Python_ en su versión `2.7`, en la cual ya se instalaron la librería PSSPY27 (que es la que le corresponde a esta versión de _Python_); así como la librería IPython en la versión correcta para _Python_ `2.7`.\n",
    "\n",
    " Para saber qué librerías y qué versiones tenemos instalados en nuestro ambiente, podemos ubicarnos en una terminal, dirigirnos a la ruta donde se tiene instalada la versión de _Python_ de interés (en este caso la `2.7`) y ejecutar el comando:\n",
    " \n",
    "  `pip freeze`\n",
    "\n",
    "Tal como se muestra en las siguientes líneas:\n",
    "\n",
    " ```\n",
    "C:\\Python27>pip freeze\n",
    " functionality.\n",
    "backports-abc==0.5\n",
    "backports.functools-lru-cache==1.6.4\n",
    "backports.shutil-get-terminal-size==1.0.0\n",
    "colorama==0.4.4\n",
    "decorator==4.4.2\n",
    "enum34==1.1.10\n",
    "futures==3.3.0\n",
    "ipykernel==4.10.1        <------------------\n",
    "ipython==5.10.0          <------------------\n",
    "ipython-genutils==0.2.0  <------------------  LIBRERÍAS REQUERIDAS PARA EJECUTAR JUPYTER NOTE BOOKS\n",
    "jupyter-client==5.3.5    <------------------\n",
    "jupyter-core==4.6.3      <------------------\n",
    "numpy==1.16.6\n",
    "pandas==0.24.2\n",
    "pathlib2==2.3.7.post1\n",
    "pickleshare==0.7.5\n",
    "prompt-toolkit==1.0.18\n",
    "Pygments==2.5.2\n",
    "python-dateutil==2.8.2\n",
    "pytz==2022.1\n",
    "pywin32==221\n",
    "pyzmq==19.0.2\n",
    "scandir==1.10.0\n",
    "simplegeneric==0.8.1\n",
    "singledispatch==3.7.0\n",
    "six==1.16.0\n",
    "tornado==5.1.1\n",
    "traitlets==4.3.3\n",
    "typing==3.10.0.0\n",
    "wcwidth==0.2.5\n",
    "win-unicode-console==0.5\n",
    "\n",
    " ```"
   ]
  },
  {
   "cell_type": "markdown",
   "metadata": {},
   "source": [
    "### Importando las librerías\n",
    "\n",
    "En la siguiente celda se realiza el primer ejercicio de ejecución de código, en el cual se importan a nuestro ambiente de ejecución las librerías: _os, sys, pss34, psspy y redirec_. Además se definen las rutas de las carpetas queindican en donde se encuentran: la carpeta con la librería **PSSPY** y el ejecutable de **PSS/E 34**.\n",
    "\n",
    "El resultado de esta ejecución se muestra al final de la celda de código, donde se ve el mensaje de que el programa (**PSS/E**) está ejecutándose dentro de este ambiente."
   ]
  },
  {
   "cell_type": "code",
   "execution_count": 1,
   "metadata": {},
   "outputs": [
    {
     "name": "stdout",
     "output_type": "stream",
     "text": [
      "\n",
      " Input error detected at !\n",
      " -m ipykernel_launcher --ip=127.0.0.1 --stdin=9003 --control=9001 --hb=9000 \"--Session.signature_scheme=\\\"hmac-sha256\\\"\" \"--Session.key=b\\\"9f4e5850-b5e4-402e-b573-652d768bceb8\\\"\" --shell=9002 \"--transport=\\\"tcp\\\"\" --iopu\n",
      "                                                                                                          !\n",
      "\n",
      " PSS(R)E Version 34\n",
      " Copyright (c) 1976-2022\n",
      " Siemens Industry, Inc.,\n",
      " Power Technologies International                            (PTI)\n",
      " This program is a confidential  unpublished  work  created  and  first\n",
      " licensed in 1976.  It is a trade secret which is the property of  PTI.\n",
      " All use,  disclosure,  and/or reproduction not specifically authorized\n",
      " by  PTI  is prohibited.   This  program is protected  under  copyright\n",
      " laws  of  non-U.S.  countries  and  by  application  of  international\n",
      " treaties.  All  Rights  Reserved  Under  The  Copyright  Laws.\n",
      "\n",
      "\n",
      "           SIEMENS POWER TECHNOLOGIES INTERNATIONAL\n",
      "\n",
      "      50000 BUS POWER SYSTEM SIMULATOR--PSS(R)E-34.6.0\n",
      "\n",
      "             INITIATED ON THU, APR 28 2022  10:43\n"
     ]
    },
    {
     "data": {
      "text/plain": [
       "0"
      ]
     },
     "execution_count": 1,
     "metadata": {},
     "output_type": "execute_result"
    }
   ],
   "source": [
    "import os\n",
    "import sys\n",
    "import psse34\n",
    "import psspy\n",
    "import redirect\n",
    "\n",
    "#Damos de alta los directorios de psse,para correrlo sin abrirlo\n",
    "\n",
    "PSSPY_location = r'C:\\Program Files (x86)\\PTI\\PSSE34\\PSSPY27' #hay que cambiar la ruta dependianto si se usa psse34 o 35 tambien en base al python 2 o 3\n",
    "PSSE_location = r'C:\\Program Files (x86)\\PTI\\PSSE34\\PSSBIN' #hay que cambiar la ruta dependianto si se usa psse34 o 35\n",
    "sys.path.append(PSSPY_location)\n",
    "sys.path.append(PSSE_location)\n",
    "os.environ['PATH'] += ';' + PSSPY_location\n",
    "os.environ['PATH'] += ';' + PSSE_location\n",
    "\n",
    "redirect.psse2py()\n",
    "psspy.psseinit(50000)"
   ]
  },
  {
   "cell_type": "markdown",
   "metadata": {},
   "source": [
    "## Ejemplos de uso del NoteBook\n",
    "\n",
    "En las secciones siguientes se harán algunos ejercicios de manipulación y visualización de ejecuciones de **PSS/E** dentro de _Note Books_ con fines de demostración y para que en desarrollos posteriores se puedan reutilizar. Para la realización de los ejemplos se utiliza de referencia de la documentación del **PSS/E**, en la sección "
   ]
  },
  {
   "cell_type": "markdown",
   "metadata": {},
   "source": [
    "### 1. Leer un caso (*.sav)\n",
    "\n",
    "El primer ejemplo consiste en cargar un caso en el ambiente y ver su contenido. Para ello se usa la librería `psspy` con la _API_ `case`. \n",
    "\n",
    "**IMPORTANTE** \n",
    "\n",
    "Todos los comandos o _APIs_ que se utilizan para comunicarse con **PSS/E** (algunos para lectura y otros para modificar directamente el caso) se encuentran en la documentación de **PSS/E**, en la sección de _Aplication Program Interface (API)_"
   ]
  },
  {
   "cell_type": "code",
   "execution_count": 9,
   "metadata": {},
   "outputs": [
    {
     "name": "stdout",
     "output_type": "stream",
     "text": [
      "\n",
      "\n",
      "\n",
      "\n",
      " The Saved Case in file d:\\10243.CENACE\\Desktop\\PSSE\\casos\\1-C15_2027_V16H_OCC_NTE_NES.sav was saved on TUE, APR 12 2022  11:48\n"
     ]
    },
    {
     "data": {
      "text/plain": [
       "0"
      ]
     },
     "execution_count": 9,
     "metadata": {},
     "output_type": "execute_result"
    }
   ],
   "source": [
    "# Comandos de Python\n",
    "\n",
    "CASOS_PATH = \"./casos/\" # Ruta donde se guardan los archivos .sav (de acuerdo con la estructura del repositorio)\n",
    "casos_sav = os.listdir(CASOS_PATH) # Genera una lista con los nombres de \n",
    "\n",
    "# Sección 1.55 de la Docuementación\n",
    "\n",
    "psspy.case(os.path.abspath(\"casos/\" + casos_sav[0])) # Obtiene el caso en la ubicación: [PATH de este NoteBook]/casos/[primer archivo que encuentre en la carpeta]"
   ]
  },
  {
   "cell_type": "markdown",
   "metadata": {},
   "source": [
    "Este comando transfiere el caso indicado al espacio de trabajo de **PSS/E**, con lo cual ya se puede extraer información de él."
   ]
  },
  {
   "cell_type": "markdown",
   "metadata": {},
   "source": [
    "### 2. Extraer información de un caso\n",
    "\n",
    "En este ejemplo se extrae información referente al resumen del caso (_summary_). La salida de esta API es una tabla impresa (un _print_), no se puede tener acceso a las variables que permiten su creación. "
   ]
  },
  {
   "cell_type": "code",
   "execution_count": 11,
   "metadata": {},
   "outputs": [
    {
     "name": "stdout",
     "output_type": "stream",
     "text": [
      "     PTI INTERACTIVE POWER SYSTEM SIMULATOR--PSS(R)E     THU, APR 28 2022  13:24\n",
      "                                                                  SYSTEM SUMMARY\n",
      "\n",
      "\n",
      " ---------------------BUSES----------------------        -----GENERATION----- ----SHUNTS----- -IND MACHS- FACTS   GNE\n",
      "  TOTAL  PQ<>0.  PQ=0.  PE/E   PE/Q  SWING  OTHER  LOADS PLANTS MACHNS   WIND  FIXED SWITCHED GENS MOTORS  DEVS  DEVS\n",
      "  10605   3679   5520    618    299      2    487   4407   1297   1420    432   1665     97      0      0    11     0\n",
      " ------------------AC BRANCHES------------------- 3WIND MULTI-SECTION ---DC LINES--                    AREA X------- SWING BUSES -------X\n",
      "  TOTAL    RXB     RX    RXT   RX=0.    IN    OUT XFORM  LINES SECTNS 2TRM MTRM VSC AREAS ZONES OWNRS TRANS  20025     MMT-03-HI   17.000\n",
      "  12692   5593    132   6740    227  12025    667   728      0      0    3    0   0    11    40   188     0  20027     MMT-05-HI   17.000\n",
      "      ----GENERATION---- INDUCTION                                       GNE\n",
      " TOTAL   SYNCHR  INDUCTN   MOTORS   PQLOAD   I LOAD   Y LOAD   SHUNTS  DEVICES CHARGING   LOSSES    SWING\n",
      " MW     54503.1      0.0      0.0  52890.2      0.0      0.0      5.2      0.0      0.0   1607.8    361.8\n",
      " MVAR    3112.7      0.0      0.0  14583.0      0.0      0.0  -2234.3      0.0  31263.3  22027.3    -48.0\n",
      "\n",
      " TOTAL MISMATCH =    0.32 MVA X--------- AT BUS ----------X   THRSHZ  PQBRAK BLOWUP  SBASE MXTPSS\n",
      "  MAX. MISMATCH =    0.06 MVA 330901     POS-CEV     16.600  0.000100  0.700   5.00 100.00   99\n",
      "   HIGH VOLTAGE = 1.13026 PU   41999     SER-ST      53.000   ADJTHR  ACCTAP TAPLIM SWVBND MXSWIM\n",
      "   LOW  VOLTAGE = 0.83686 PU  308132     TUX-23B     23.000   0.0050  1.0000 0.0500  100.0   10\n",
      "\n",
      " X------ SOLV AND MSLV ------X  X----------------- NEWTON ------------------X  X----- TYSL -----X\n",
      "  ACCP  ACCQ  ACCM   TOL  ITER  ACCN  TOLN  VCTOLQ  VCTOLV ITER  DVLIM NDVFCT  ACCTY    TOL  ITER\n",
      " 1.600 1.600 1.000 0.00010 100  1.00 0.1000 0.1000 0.000010 200 0.9900 0.9900  1.000 0.000010  20\n",
      "     PTI INTERACTIVE POWER SYSTEM SIMULATOR--PSS(R)E     THU, APR 28 2022  13:24\n",
      "                                                                         WORST\n",
      "                                                                      MISMATCHES\n",
      "   BUS#-SCT X-- NAME --X BASKV       MW       MVAR       MVA\n",
      " 330901     POS-CEV     16.600      0.00      0.06      0.06\n",
      " 330900     POS-F1      230.00     -0.00     -0.06      0.06\n",
      " 322769     PMY-ST1     53.000     -0.00      0.05      0.05\n",
      "  32276     PMY-400     400.00     -0.00     -0.05      0.05\n",
      "  32099     KDA-CEV1    17.500      0.00      0.02      0.02\n",
      "  32089     KDA-F1      400.00     -0.00     -0.02      0.02\n",
      " 341700     QRP-F1      230.00     -0.00     -0.02      0.02\n",
      " 341701     QRP-CEV     16.600     -0.00      0.02      0.02\n",
      "  32103     SAN-115     115.00     -0.00     -0.01      0.01\n",
      "     PTI INTERACTIVE POWER SYSTEM SIMULATOR--PSS(R)E     THU, APR 28 2022  13:24\n",
      "                                                                      RATING SET\n",
      "                                                                     UTILIZATION\n",
      " RATING SET  -NAME-  X---------DESCRIPTION----------X  # NON-ZERO RATINGS\n",
      "      1      RATE1   RATING SET 1                             12190\n",
      "      2      RATE2   RATING SET 2                               930\n",
      "      3      RATE3   RATING SET 3                               854\n",
      "      4      RATE4   RATING SET 4                                 5\n",
      "      5      RATE5   RATING SET 5                                 6\n",
      "      6      RATE6   RATING SET 6                                 5\n",
      "      7      RATE7   RATING SET 7                                 5\n",
      "      8      RATE8   RATING SET 8                                 5\n",
      "      9      RATE9   RATING SET 9                                 5\n",
      "     10      RATE10  RATING SET 10                                5\n",
      "     11      RATE11  RATING SET 11                                5\n",
      "     12      RATE12  RATING SET 12                                5\n",
      "\n",
      " Output completed\n"
     ]
    }
   ],
   "source": [
    "# Sección 1.139 de la Docuementación\n",
    "\n",
    "psspy.list(0,1,1,0)"
   ]
  },
  {
   "cell_type": "markdown",
   "metadata": {},
   "source": [
    "### 3. Creación de un subsistema\n",
    "\n",
    "Esta familia de comandos es de los más utilizados porque generalmente se requiere actuar sobre ciertos elementos y no en todo el sistema. En la Docuemntación el **capítulo 5** está dedicado solo a esta actividad."
   ]
  },
  {
   "cell_type": "code",
   "execution_count": 44,
   "metadata": {},
   "outputs": [
    {
     "data": {
      "text/plain": [
       "0"
      ]
     },
     "execution_count": 44,
     "metadata": {},
     "output_type": "execute_result"
    }
   ],
   "source": [
    "# Subsistema identificado con el número \"1\" que comprende a todas las subestaciones del área \"5\"\n",
    "\n",
    "ierr = psspy.asys(0, 1, [5])\n",
    "ierr"
   ]
  },
  {
   "cell_type": "markdown",
   "metadata": {},
   "source": [
    "Este comando no regresa nada, pero le indica al espacio de trabajo que existe un subsistema conformado por todos los buses y elementos asociados que pertenecen al área 5. Las funciones que se ejecuten posteriormente a esta definición de susbistema y que se identifiquen con el subsistema \"1\", actuarán únicamente sobre estos buses (los del área 5)."
   ]
  },
  {
   "cell_type": "markdown",
   "metadata": {},
   "source": [
    "### 4. Extracción de valores para manipulación\n",
    "\n",
    "Para este ejercicio se \"pide\" al programa **PSS/E** nos devuelva el total de demanda de un grupo de subestaciones en el caso. Las extracciones de información del caso se encuentran en el **capítulo 8** de la docuemntación."
   ]
  },
  {
   "cell_type": "code",
   "execution_count": 45,
   "metadata": {},
   "outputs": [],
   "source": [
    "# Devuelve la carga total (en MW y MVAr) de los nodos en servicio con cargas en servicio del subsistema \"1\"\n",
    "\n",
    "ierr, xarray = psspy.aareacplx(1, 1, ['PQLOAD'])\n",
    "xarray"
   ]
  },
  {
   "cell_type": "markdown",
   "metadata": {},
   "source": [
    "De acuerdo con la Documentación (sección 8.23.3), esta API devuelve un arreglo con el número complejo que representa la carga (Real: MW ; Complejo: MVAr) del subsistema de área definido. Esperamos entonces un arreglo de la siguiente forma: \n",
    "\n",
    "```\n",
    "[[(MW + jMVAr totales del subsistema definido)]]\n",
    "\n",
    "[[(5803.85888671875+1338.0889892578125j)]] \n",
    "\n",
    "```"
   ]
  },
  {
   "cell_type": "markdown",
   "metadata": {},
   "source": [
    "En caso de que queramos saber esta información para algún otro mismo subsistema, podemos utilizar la estructura de arreglos que _Python_ permite utilizar de manera nativa: \n",
    "\n",
    "> **Listas, Listas de listas, Diccionarios, Tuplas [(ver más detalles aquí)](https://docs.python.org/es/3/tutorial/datastructures.html)**\n",
    "\n",
    "O bien, arreglos o estructuras de otras paqueterías, que también son muy utilizados para el análisis de datos:\n",
    "\n",
    " > **Arreglos de [numpy](https://numpy.org/)**\n",
    " \n",
    " > **_Dataframes_ de [pandas](https://pandas.pydata.org/)**"
   ]
  },
  {
   "cell_type": "markdown",
   "metadata": {},
   "source": []
  },
  {
   "cell_type": "markdown",
   "metadata": {},
   "source": [
    "\n",
    "```\n",
    "\n",
    "[[(MW + jMVAr de la carga 1), \n",
    "  (MW + jMVAr de la carga 2), \n",
    "  (MW + jMVAr de la carga 3),\n",
    "          ... \n",
    "  (MW + jMVAr de la carga n)]]\n",
    "\n",
    "\n",
    "Visualización del arreglo:\n",
    "\n",
    "[[(9.141016006469727+3j),\n",
    "  (16.0200138092041+5.260000228881836j),\n",
    "  (12.181707382202148+4j),\n",
    "  (5.52407693862915+1.809999942779541j),\n",
    "  (5.794804573059082+1.899999976158142j),\n",
    "  (17.320425033569336+5.690000057220459j),\n",
    "  (3.818352222442627+1.25j),\n",
    "  (18.584312438964844+6.099999904632568j),\n",
    "  (17.94345474243164+5.889999866485596j),\n",
    "\n",
    "```\n",
    "Cuya longitud, o número de cargas que se extrajeron son:"
   ]
  },
  {
   "cell_type": "code",
   "execution_count": 41,
   "metadata": {},
   "outputs": [
    {
     "data": {
      "text/plain": [
       "4266"
      ]
     },
     "execution_count": 41,
     "metadata": {},
     "output_type": "execute_result"
    }
   ],
   "source": [
    "len(xarray[0])"
   ]
  },
  {
   "cell_type": "code",
   "execution_count": 43,
   "metadata": {},
   "outputs": [
    {
     "data": {
      "text/plain": [
       "2"
      ]
     },
     "execution_count": 43,
     "metadata": {},
     "output_type": "execute_result"
    }
   ],
   "source": [
    "ierr = psspy.asys(2, 1, [5])\n",
    "ierr, xarray = psspy.aloadcplx(2, 1, ['TOTALACT'])\n",
    "ierr"
   ]
  },
  {
   "cell_type": "code",
   "execution_count": 38,
   "metadata": {},
   "outputs": [
    {
     "ename": "TypeError",
     "evalue": "'tuple' object is not callable",
     "output_type": "error",
     "traceback": [
      "\u001b[1;31m\u001b[0m",
      "\u001b[1;31mTypeError\u001b[0mTraceback (most recent call last)",
      "\u001b[1;32m<ipython-input-38-469d6349df44>\u001b[0m in \u001b[0;36m<module>\u001b[1;34m()\u001b[0m\n\u001b[0;32m      1\u001b[0m \u001b[1;32mimport\u001b[0m \u001b[0mnumpy\u001b[0m \u001b[1;32mas\u001b[0m \u001b[0mnp\u001b[0m\u001b[1;33m\u001b[0m\u001b[0m\n\u001b[0;32m      2\u001b[0m \u001b[0mcargas\u001b[0m \u001b[1;33m=\u001b[0m \u001b[0mnp\u001b[0m\u001b[1;33m.\u001b[0m\u001b[0marray\u001b[0m\u001b[1;33m(\u001b[0m\u001b[0mxarray\u001b[0m\u001b[1;33m)\u001b[0m\u001b[1;33m\u001b[0m\u001b[0m\n\u001b[1;32m----> 3\u001b[1;33m \u001b[0mcargas\u001b[0m\u001b[1;33m.\u001b[0m\u001b[0mshape\u001b[0m\u001b[1;33m(\u001b[0m\u001b[1;33m)\u001b[0m\u001b[1;33m\u001b[0m\u001b[0m\n\u001b[0m",
      "\u001b[1;31mTypeError\u001b[0m: 'tuple' object is not callable"
     ]
    }
   ],
   "source": [
    "import numpy as np\n",
    "cargas = np.array(xarray)\n",
    "cargas.shape()"
   ]
  },
  {
   "cell_type": "code",
   "execution_count": 17,
   "metadata": {},
   "outputs": [
    {
     "ename": "AttributeError",
     "evalue": "'NoneType' object has no attribute 'shape'",
     "output_type": "error",
     "traceback": [
      "\u001b[1;31m\u001b[0m",
      "\u001b[1;31mAttributeError\u001b[0mTraceback (most recent call last)",
      "\u001b[1;32m<ipython-input-17-4118557e3fd8>\u001b[0m in \u001b[0;36m<module>\u001b[1;34m()\u001b[0m\n\u001b[1;32m----> 1\u001b[1;33m \u001b[0mxarray\u001b[0m\u001b[1;33m.\u001b[0m\u001b[0mshape\u001b[0m\u001b[1;33m(\u001b[0m\u001b[1;33m)\u001b[0m\u001b[1;33m\u001b[0m\u001b[0m\n\u001b[0m",
      "\u001b[1;31mAttributeError\u001b[0m: 'NoneType' object has no attribute 'shape'"
     ]
    }
   ],
   "source": [
    "xarray.shape()"
   ]
  },
  {
   "cell_type": "code",
   "execution_count": 3,
   "metadata": {},
   "outputs": [
    {
     "data": {
      "text/plain": [
       "['1-C15_2027_V16H_OCC_NTE_NES.sav', '5-C15_2027_PRIFS20H_OCC_NTE_NES.sav']"
      ]
     },
     "execution_count": 3,
     "metadata": {},
     "output_type": "execute_result"
    }
   ],
   "source": [
    "def casos_dir(path=CASOS_PATH):\n",
    "    casos_sav = os.listdir(path)\n",
    "    return casos_sav\n",
    "\n",
    "casos_dir()"
   ]
  },
  {
   "cell_type": "markdown",
   "metadata": {},
   "source": [
    "Demanda del caso"
   ]
  },
  {
   "cell_type": "code",
   "execution_count": null,
   "metadata": {},
   "outputs": [],
   "source": []
  }
 ],
 "metadata": {
  "interpreter": {
   "hash": "6c3d9491ffb4e8c5e5cf823b7ff7179d3b82dbc9d7cf31eabb7f563a18a63946"
  },
  "kernelspec": {
   "display_name": "Python 3.7.0 64-bit ('3.7.0')",
   "language": "python",
   "name": "python3"
  },
  "language_info": {
   "codemirror_mode": {
    "name": "ipython",
    "version": 2
   },
   "file_extension": ".py",
   "mimetype": "text/x-python",
   "name": "python",
   "nbconvert_exporter": "python",
   "pygments_lexer": "ipython2",
   "version": "2.7.13"
  },
  "orig_nbformat": 4
 },
 "nbformat": 4,
 "nbformat_minor": 2
}
