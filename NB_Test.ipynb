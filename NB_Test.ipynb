{
 "cells": [
  {
   "cell_type": "markdown",
   "metadata": {},
   "source": [
    "### Importar las paqueterías y definir rutas de las librerías de PSSPY y del PSS/E"
   ]
  },
  {
   "cell_type": "code",
   "execution_count": 1,
   "metadata": {},
   "outputs": [
    {
     "name": "stdout",
     "output_type": "stream",
     "text": [
      "\n",
      " Input error detected at !\n",
      " -m ipykernel_launcher --ip=127.0.0.1 --stdin=9003 --control=9001 --hb=9000 \"--Session.signature_scheme=\\\"hmac-sha256\\\"\" \"--Session.key=b\\\"cc251d73-e70d-4481-ac42-38ca95f24f7f\\\"\" --shell=9002 \"--transport=\\\"tcp\\\"\" --iopu\n",
      "                                                                                                          !\n",
      "\n",
      " PSS(R)E Version 34\n",
      " Copyright (c) 1976-2022\n",
      " Siemens Industry, Inc.,\n",
      " Power Technologies International                            (PTI)\n",
      " This program is a confidential  unpublished  work  created  and  first\n",
      " licensed in 1976.  It is a trade secret which is the property of  PTI.\n",
      " All use,  disclosure,  and/or reproduction not specifically authorized\n",
      " by  PTI  is prohibited.   This  program is protected  under  copyright\n",
      " laws  of  non-U.S.  countries  and  by  application  of  international\n",
      " treaties.  All  Rights  Reserved  Under  The  Copyright  Laws.\n",
      "\n",
      "\n",
      "           SIEMENS POWER TECHNOLOGIES INTERNATIONAL\n",
      "\n",
      "      50000 BUS POWER SYSTEM SIMULATOR--PSS(R)E-34.6.0\n",
      "\n",
      "             INITIATED ON THU, APR 28 2022  10:21\n"
     ]
    },
    {
     "data": {
      "text/plain": [
       "0"
      ]
     },
     "execution_count": 1,
     "metadata": {},
     "output_type": "execute_result"
    }
   ],
   "source": [
    "import os\n",
    "import sys\n",
    "\n",
    "#Damos de alta los directorios de psse,para correrlo sin abrirlo\n",
    "PSSPY_location = r'C:\\Program Files (x86)\\PTI\\PSSE34\\PSSPY27' #hay que cambiar la ruta dependianto si se usa psse34 o 35 tambien en base al python 2 o 3\n",
    "PSSE_location = r'C:\\Program Files (x86)\\PTI\\PSSE34\\PSSBIN' #hay que cambiar la ruta dependianto si se usa psse34 o 35\n",
    "sys.path.append(PSSPY_location)\n",
    "sys.path.append(PSSE_location)\n",
    "os.environ['PATH'] += ';' + PSSPY_location\n",
    "os.environ['PATH'] += ';' + PSSE_location\n",
    "\n",
    "import psse34\n",
    "import psspy\n",
    "import redirect\n",
    "redirect.psse2py()\n",
    "psspy.psseinit(50000)"
   ]
  },
  {
   "cell_type": "code",
   "execution_count": 2,
   "metadata": {},
   "outputs": [
    {
     "name": "stdout",
     "output_type": "stream",
     "text": [
      "\n",
      "\n",
      "\n",
      "\n",
      " The Saved Case in file D:\\10243.CENACE\\Desktop\\NB\\1-C15_2027_V16H_OCC_NTE_NES.sav was saved on TUE, APR 12 2022  11:48\n"
     ]
    },
    {
     "data": {
      "text/plain": [
       "0"
      ]
     },
     "execution_count": 2,
     "metadata": {},
     "output_type": "execute_result"
    }
   ],
   "source": [
    "psspy.case('D:/10243.CENACE/Desktop/NB/1-C15_2027_V16H_OCC_NTE_NES.sav')"
   ]
  },
  {
   "cell_type": "markdown",
   "metadata": {},
   "source": [
    "#### Función para recolectar los nombres de los casos que se encuentren en el directorio actual "
   ]
  },
  {
   "cell_type": "code",
   "execution_count": 6,
   "metadata": {},
   "outputs": [
    {
     "ename": "NameError",
     "evalue": "global name 'variables' is not defined",
     "output_type": "error",
     "traceback": [
      "\u001b[1;31m\u001b[0m",
      "\u001b[1;31mNameError\u001b[0mTraceback (most recent call last)",
      "\u001b[1;32m<ipython-input-6-b82313dc9cec>\u001b[0m in \u001b[0;36m<module>\u001b[1;34m()\u001b[0m\n\u001b[0;32m      6\u001b[0m     \u001b[1;32mreturn\u001b[0m \u001b[0mcasos_sav\u001b[0m\u001b[1;33m\u001b[0m\u001b[0m\n\u001b[0;32m      7\u001b[0m \u001b[1;33m\u001b[0m\u001b[0m\n\u001b[1;32m----> 8\u001b[1;33m \u001b[0mcasos_dir\u001b[0m\u001b[1;33m(\u001b[0m\u001b[1;33m)\u001b[0m\u001b[1;33m\u001b[0m\u001b[0m\n\u001b[0m",
      "\u001b[1;32m<ipython-input-6-b82313dc9cec>\u001b[0m in \u001b[0;36mcasos_dir\u001b[1;34m()\u001b[0m\n\u001b[0;32m      1\u001b[0m \u001b[1;32mdef\u001b[0m \u001b[0mcasos_dir\u001b[0m\u001b[1;33m(\u001b[0m\u001b[1;33m)\u001b[0m\u001b[1;33m:\u001b[0m\u001b[1;33m\u001b[0m\u001b[0m\n\u001b[1;32m----> 2\u001b[1;33m     \u001b[0m_i\u001b[0m\u001b[1;33m,\u001b[0m\u001b[0m_f\u001b[0m\u001b[1;33m,\u001b[0m\u001b[0m_s\u001b[0m\u001b[1;33m,\u001b[0m\u001b[0m_o\u001b[0m\u001b[1;33m=\u001b[0m\u001b[0mvariables\u001b[0m\u001b[1;33m(\u001b[0m\u001b[1;33m)\u001b[0m\u001b[1;33m\u001b[0m\u001b[0m\n\u001b[0m\u001b[0;32m      3\u001b[0m     \u001b[0mraiz\u001b[0m \u001b[1;33m=\u001b[0m \u001b[0mos\u001b[0m\u001b[1;33m.\u001b[0m\u001b[0mpath\u001b[0m\u001b[1;33m.\u001b[0m\u001b[0mdirname\u001b[0m\u001b[1;33m(\u001b[0m\u001b[0mos\u001b[0m\u001b[1;33m.\u001b[0m\u001b[0mpath\u001b[0m\u001b[1;33m.\u001b[0m\u001b[0mabspath\u001b[0m\u001b[1;33m(\u001b[0m\u001b[0m__file__\u001b[0m\u001b[1;33m)\u001b[0m\u001b[1;33m)\u001b[0m\u001b[1;33m\u001b[0m\u001b[0m\n\u001b[0;32m      4\u001b[0m     \u001b[0mos\u001b[0m\u001b[1;33m.\u001b[0m\u001b[0mchdir\u001b[0m\u001b[1;33m(\u001b[0m\u001b[0mraiz\u001b[0m\u001b[1;33m)\u001b[0m\u001b[1;33m\u001b[0m\u001b[0m\n\u001b[0;32m      5\u001b[0m     \u001b[0mcasos_sav\u001b[0m \u001b[1;33m=\u001b[0m \u001b[0mglob1\u001b[0m\u001b[1;33m(\u001b[0m\u001b[0mraiz\u001b[0m\u001b[1;33m,\u001b[0m \u001b[1;34m'*.sav'\u001b[0m\u001b[1;33m)\u001b[0m\u001b[1;33m\u001b[0m\u001b[0m\n",
      "\u001b[1;31mNameError\u001b[0m: global name 'variables' is not defined"
     ]
    }
   ],
   "source": [
    "def casos_dir():\n",
    "    _i,_f,_s,_o=variables()\n",
    "    raiz = os.path.dirname(os.path.abspath(__file__))\n",
    "    os.chdir(raiz)\n",
    "    casos_sav = glob1(raiz, '*.sav')\n",
    "    return casos_sav\n",
    "\n",
    "casos_dir()"
   ]
  },
  {
   "cell_type": "markdown",
   "metadata": {},
   "source": [
    "Demanda del caso"
   ]
  },
  {
   "cell_type": "code",
   "execution_count": null,
   "metadata": {},
   "outputs": [],
   "source": []
  }
 ],
 "metadata": {
  "interpreter": {
   "hash": "6c3d9491ffb4e8c5e5cf823b7ff7179d3b82dbc9d7cf31eabb7f563a18a63946"
  },
  "kernelspec": {
   "display_name": "Python 3.7.0 64-bit ('3.7.0')",
   "language": "python",
   "name": "python3"
  },
  "language_info": {
   "codemirror_mode": {
    "name": "ipython",
    "version": 2
   },
   "file_extension": ".py",
   "mimetype": "text/x-python",
   "name": "python",
   "nbconvert_exporter": "python",
   "pygments_lexer": "ipython2",
   "version": "2.7.13"
  },
  "orig_nbformat": 4
 },
 "nbformat": 4,
 "nbformat_minor": 2
}
