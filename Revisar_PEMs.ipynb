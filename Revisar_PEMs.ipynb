{
 "cells": [
  {
   "cell_type": "markdown",
   "metadata": {},
   "source": [
    "# NoteBook de Referencia para hacer revisión de PEMs en los Casos Base\n",
    "\n",
    "La finalidad de este ejercicio es proponer una manera en la que puedan hacerse revisiones/validaciones de proyectos que deban estar modelados en la base de datos del PSS/E.\n",
    "\n",
    "Para ello se crea un archivo <**PEMS.py**> que contiene las funciones que realizan la comprobación de las obras (están o no en el caso _.sav_). Se tienen tres tipos de validación con las cuales se pueden verificar prácticamente todas las obras instruidas de la RNT y las RGD:\n",
    "\n",
    "1. Verificar la existencia de Buses <_número y nombre_>\n",
    "2. Verificar la existencia de Ramas <_líneas y transformadores de dos devanados_>\n",
    "3. Verificar la existencia de Shunts <_reactores y capacitores_>\n",
    "\n",
    "Para cada PEM, utilizando las posibles verificaciones que se proponen, se puede corroborar si se encuentran o no modeladas en el caso. De tal manera que se identifiquen posibles errores en el modelo. Por ejemplo:\n",
    "\n",
    "- Para verificar una obra que involucra un trnasformador de 3 devanados, se puede buscar el Bus terciario que se genera con la entrada de este proyecto.\n",
    "- Para verificar un transformador de 2 devanados, se puede buscar el enlace entre los buses de alta y baja del transformador, así como su ID.\n",
    "- Para verificar un compensador estático de var o STATCOM se puede buscar alguno(s) de los buses que se generan para su modelo.\n",
    "...\n",
    "\n",
    "En el archivo <**PEMS.py**>, al principio, se encuentran las tres funciones que realizan la búsqueda de _BUSSES_, _RAMAS_ y _SHUNTS_ de forma que para cada PEM que se quiera verificar, se utilicen a conveniencia, indicándo que elementos debe buscar en la base de datos a revisar. En ese mismo archivo, se define una función para cada **PEM** que se quiere revisar,ya que en cada uno las consultas pueden ser diferentes. Al principio de cada función de **PEM** se incluye el alcance de las obras y la forma en que se verifica que esté modelado por completo."
   ]
  },
  {
   "cell_type": "code",
   "execution_count": 1,
   "metadata": {},
   "outputs": [
    {
     "name": "stdout",
     "output_type": "stream",
     "text": [
      "    Sets PSSE environment to latest minor version among installed versions of PSSE 35.\n",
      "    Use psse35.set_minor(n) to set PSSE35 minor version (n) to use.\n",
      "        Example, for PSSE 35.0.x, use this as: psse35.set_minor(0)\n",
      "\n",
      " Input error detected at !\n",
      " -m ipykernel_launcher --ip=127.0.0.1 --stdin=9003 --control=9001 --hb=9000 \"--Session.signature_scheme=\\\"hmac-sha256\\\"\" \"--Session.key=b\\\"fe2df412-e42f-4fba-8b0b-43a30742342c\\\"\" --shell=9002 \"--transport=\\\"tcp\\\"\" --iopu\n",
      "                                                                                                          !\n",
      "\n",
      " PSS(R)E Version 35\n",
      " Copyright (c) 1976-2022\n",
      " Siemens Industry, Inc.,\n",
      " Power Technologies International                            (PTI)\n",
      " This program is a confidential  unpublished  work  created  and  first\n",
      " licensed in 1976.  It is a trade secret which is the property of  PTI.\n",
      " All use,  disclosure,  and/or reproduction not specifically authorized\n",
      " by  PTI  is prohibited.   This  program is protected  under  copyright\n",
      " laws  of  non-U.S.  countries  and  by  application  of  international\n",
      " treaties.  All  Rights  Reserved  Under  The  Copyright  Laws.\n",
      "\n",
      "\n",
      "           SIEMENS POWER TECHNOLOGIES INTERNATIONAL\n",
      "\n",
      "      50000 BUS POWER SYSTEM SIMULATOR--PSS(R)E-35.3.3\n",
      "\n",
      "             INITIATED ON FRI, AUG 12 2022  12:34\n"
     ]
    },
    {
     "data": {
      "text/plain": [
       "0"
      ]
     },
     "execution_count": 1,
     "metadata": {},
     "output_type": "execute_result"
    }
   ],
   "source": [
    "import os\n",
    "import sys\n",
    "\n",
    "#Damos de alta los directorios de psse,para correrlo sin abrirlo\n",
    "\n",
    "PSSPY_location = r'C:\\Program Files\\PTI\\PSSE35\\35.3\\PSSPY39' #hay que cambiar la ruta dependianto si se usa psse34 o 35 tambien en base al python 2 o 3\n",
    "PSSE_location = r'C:\\Program Files\\PTI\\PSSE35\\35.3\\PSSBIN' #hay que cambiar la ruta dependianto si se usa psse34 o 35\n",
    "sys.path.append(PSSPY_location)\n",
    "sys.path.append(PSSE_location)\n",
    "os.environ['PATH'] += ';' + PSSPY_location\n",
    "os.environ['PATH'] += ';' + PSSE_location\n",
    "\n",
    "#Importamos librerias del PSS\n",
    "\n",
    "import psse35\n",
    "import psspy\n",
    "import redirect\n",
    "\n",
    "#Importamos librería de PEMs\n",
    "\n",
    "from src.PEMS import *\n",
    "\n",
    "redirect.psse2py()\n",
    "psspy.psseinit(50000)"
   ]
  },
  {
   "cell_type": "code",
   "execution_count": 2,
   "metadata": {},
   "outputs": [
    {
     "name": "stdout",
     "output_type": "stream",
     "text": [
      "\n",
      "\n",
      "\n",
      "\n",
      " The Saved Case in file c:\\Users\\10243\\Desktop\\PSSE\\casos\\1-C15_2027_V16H_OCC_NTE_NES.sav was saved on TUE, APR 12 2022  11:48\n"
     ]
    }
   ],
   "source": [
    "CASOS_PATH = \"./casos/\" # Ruta donde se guardan los archivos .sav (de acuerdo con la estructura del repositorio)\n",
    "casos_sav = os.listdir(CASOS_PATH) # Genera una lista con los nombres de los archivos dentro de la carpeta\n",
    "\n",
    "psspy.case(os.path.abspath(\"casos/\" + casos_sav[0])) # Obtiene el primer caso de la lista en la ubicación: [PATH de este NoteBook]/casos/[primer archivo que encuentre en la carpeta]\n",
    "\n",
    "# Se define un subsistema que abarca todos los elementos las áreas 3,5 y 6\n",
    "#  \n",
    "ierr = psspy.bsys(0,0,[69,400],3,[3,5,6],0,[],0,[],0,[])\n",
    "#"
   ]
  },
  {
   "cell_type": "code",
   "execution_count": 3,
   "metadata": {},
   "outputs": [
    {
     "name": "stdout",
     "output_type": "stream",
     "text": [
      "PEM P16-OC2\n",
      "Bus: 330704 ok\n",
      "Enlace: 33045-OC-33019 ok\n",
      "Enlace: 33045-OC-33032 ok\n",
      "Enlace: 33045-OC-33036 ok\n",
      "Enlace: 33032-73-33036 ok\n",
      "-----------------------------\n"
     ]
    }
   ],
   "source": [
    "P16_OC2()"
   ]
  },
  {
   "cell_type": "code",
   "execution_count": 4,
   "metadata": {},
   "outputs": [
    {
     "name": "stdout",
     "output_type": "stream",
     "text": [
      "PEM P18-OC9\n",
      "Shunt: 34043/PQN-115(OC) ok\n",
      "Shunt: 34116/QRP-115(OC) ok\n",
      "Shunt: 34140/CNI-115(OC) ok\n",
      "Shunt: 34114/NTA-115(OC) ok\n",
      "Shunt: 34160/CIM-115(OC) ok\n",
      "Shunt: 34112/QRO-115(OC) ok\n",
      "-----------------------------\n"
     ]
    }
   ],
   "source": [
    "P18_OC9()"
   ]
  },
  {
   "cell_type": "code",
   "execution_count": 5,
   "metadata": {},
   "outputs": [
    {
     "name": "stdout",
     "output_type": "stream",
     "text": [
      "PEM P16-OC2\n",
      "Bus: 330704 ok\n",
      "Enlace: 33045-OC-33019 ok\n",
      "Enlace: 33045-OC-33032 ok\n",
      "Enlace: 33045-OC-33036 ok\n",
      "Enlace: 33032-73-33036 ok\n",
      "-----------------------------\n",
      "PEM P18-OC9\n",
      "Shunt: 34043/PQN-115(OC) ok\n",
      "Shunt: 34116/QRP-115(OC) ok\n",
      "Shunt: 34140/CNI-115(OC) ok\n",
      "Shunt: 34114/NTA-115(OC) ok\n",
      "Shunt: 34160/CIM-115(OC) ok\n",
      "Shunt: 34112/QRO-115(OC) ok\n",
      "-----------------------------\n"
     ]
    }
   ],
   "source": [
    "PEMS_2023 = [P16_OC2(),P18_OC9()]"
   ]
  }
 ],
 "metadata": {
  "kernelspec": {
   "display_name": "Python 3.9.13 ('pss')",
   "language": "python",
   "name": "python3"
  },
  "language_info": {
   "codemirror_mode": {
    "name": "ipython",
    "version": 3
   },
   "file_extension": ".py",
   "mimetype": "text/x-python",
   "name": "python",
   "nbconvert_exporter": "python",
   "pygments_lexer": "ipython3",
   "version": "3.9.13"
  },
  "orig_nbformat": 4,
  "vscode": {
   "interpreter": {
    "hash": "84b002ad55c7e294b389aea68ad9e0b7557cde9a9ac8af7563fa0a0685887174"
   }
  }
 },
 "nbformat": 4,
 "nbformat_minor": 2
}
