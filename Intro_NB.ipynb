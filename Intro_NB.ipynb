{
 "cells": [
  {
   "cell_type": "markdown",
   "metadata": {},
   "source": [
    "# Utilización de Jupyter Note Books para manejo del PSS/E\n",
    "\n",
    "---\n",
    "\n",
    "## Introducción a los Note Books\n",
    "\n",
    "En este **NoteBook** de introducción se explica y ejemplifica la utilización de Note Books con PSS/E, con la finalidad de mostrar y discutir las ventajas y desventajas que tiene utilizar esta funcionalidad interactiva de _Python_.\n",
    "\n",
    " El primer comentario que se hace es que una de las mayores ventajas de esta herramienta es que nos permite ejecutar porciones de código (_chunks_) dentro de un ambiente controlado y preparado para utilizar _Python_ en cualquier momento. Para quienes hayan tenido oportunidad de trabajar con _R Markdown_ observarán que es algo muy parecido.\n",
    " \n",
    " **Nota:** En los videos que se muestran en la _wiki_ del repositorio de esta [liga](https://github.com/urieluard/PSSE/wiki) podrán encontrar tutoriales (videos) que muestran la utilización de los comandos más importantes y que se requieren para ejecutar este Note Book, por lo tanto, si no los han visto recomiendo los revisen antes de continuar. \n",
    " \n",
    " ## Librerías requeridas (PSSPY y PSS/E)\n",
    "\n",
    " En el _Readme_ del [repositorio](https://github.com/urieluard/PSSE/blob/main/README.md) creado para este proyecto se menciona que las librerías para comunicar o ejecutar funciones de **PSS/E** mediante _Python_ se llama **PSSPY**, que existen diferentes versiones de esta librería y que depende del ambiente en el que se esté trabajando, tanto de _Python_ como de **PSS/E** es la versión que debemos tener instalada e instanciada.\n",
    "\n",
    " Para la utilización de los Note Books es necesario \"instanciar\" o indicar a la interfase (Visual Studio Code en este caso) cuál _Kernel_ utilizar (la palabra [_Kernel_](https://es.wikipedia.org/wiki/N%C3%BAcleo_(inform%C3%A1tica)) en informática se refiere a núcleo o parte fundamental del sistema operativo que se pretende ejecutar para alguna tarea en específico). En nuestro caso, el _Kernel_ que se utiliza es _Python_ en su versión `2.7`, en la cual ya se instalaron la librería PSSPY27 (que es la que le corresponde a esta versión de _Python_); así como la librería IPython en la versión correcta para _Python_ `2.7`.\n",
    "\n",
    " Para saber qué librerías y qué versiones tenemos instalados en nuestro ambiente, podemos ubicarnos en una terminal, dirigirnos a la ruta donde se tiene instalada la versión de _Python_ de interés (en este caso la `2.7`) y ejecutar el comando:\n",
    " \n",
    "  `pip freeze`\n",
    "\n",
    "Tal como se muestra en las siguientes líneas:\n",
    "\n",
    " ```\n",
    "C:\\Python27>pip freeze\n",
    " functionality.\n",
    "backports-abc==0.5\n",
    "backports.functools-lru-cache==1.6.4\n",
    "backports.shutil-get-terminal-size==1.0.0\n",
    "colorama==0.4.4\n",
    "decorator==4.4.2\n",
    "enum34==1.1.10\n",
    "futures==3.3.0\n",
    "ipykernel==4.10.1        <------------------\n",
    "ipython==5.10.0          <------------------\n",
    "ipython-genutils==0.2.0  <------------------  LIBRERÍAS REQUERIDAS PARA EJECUTAR JUPYTER NOTE BOOKS\n",
    "jupyter-client==5.3.5    <------------------\n",
    "jupyter-core==4.6.3      <------------------\n",
    "numpy==1.16.6\n",
    "pandas==0.24.2\n",
    "pathlib2==2.3.7.post1\n",
    "pickleshare==0.7.5\n",
    "prompt-toolkit==1.0.18\n",
    "Pygments==2.5.2\n",
    "python-dateutil==2.8.2\n",
    "pytz==2022.1\n",
    "pywin32==221\n",
    "pyzmq==19.0.2\n",
    "scandir==1.10.0\n",
    "simplegeneric==0.8.1\n",
    "singledispatch==3.7.0\n",
    "six==1.16.0\n",
    "tornado==5.1.1\n",
    "traitlets==4.3.3\n",
    "typing==3.10.0.0\n",
    "wcwidth==0.2.5\n",
    "win-unicode-console==0.5\n",
    "\n",
    " ```"
   ]
  },
  {
   "cell_type": "markdown",
   "metadata": {},
   "source": [
    "### Importando las librerías\n",
    "\n",
    "En la siguiente celda se realiza el primer ejercicio de ejecución de código, en el cual se importan a nuestro ambiente de ejecución las librerías: _os, sys, pss34, psspy y redirec_. Además se definen las rutas de las carpetas queindican en donde se encuentran: la carpeta con la librería **PSSPY** y el ejecutable de **PSS/E 34**.\n",
    "\n",
    "El resultado de esta ejecución se muestra al final de la celda de código, donde se ve el mensaje de que el programa (**PSS/E**) está ejecutándose dentro de este ambiente."
   ]
  },
  {
   "cell_type": "code",
   "execution_count": 1,
   "metadata": {},
   "outputs": [
    {
     "name": "stdout",
     "output_type": "stream",
     "text": [
      "\n",
      " Input error detected at !\n",
      " -m ipykernel_launcher --ip=127.0.0.1 --stdin=9003 --control=9001 --hb=9000 \"--Session.signature_scheme=\\\"hmac-sha256\\\"\" \"--Session.key=b\\\"9f4e5850-b5e4-402e-b573-652d768bceb8\\\"\" --shell=9002 \"--transport=\\\"tcp\\\"\" --iopu\n",
      "                                                                                                          !\n",
      "\n",
      " PSS(R)E Version 34\n",
      " Copyright (c) 1976-2022\n",
      " Siemens Industry, Inc.,\n",
      " Power Technologies International                            (PTI)\n",
      " This program is a confidential  unpublished  work  created  and  first\n",
      " licensed in 1976.  It is a trade secret which is the property of  PTI.\n",
      " All use,  disclosure,  and/or reproduction not specifically authorized\n",
      " by  PTI  is prohibited.   This  program is protected  under  copyright\n",
      " laws  of  non-U.S.  countries  and  by  application  of  international\n",
      " treaties.  All  Rights  Reserved  Under  The  Copyright  Laws.\n",
      "\n",
      "\n",
      "           SIEMENS POWER TECHNOLOGIES INTERNATIONAL\n",
      "\n",
      "      50000 BUS POWER SYSTEM SIMULATOR--PSS(R)E-34.6.0\n",
      "\n",
      "             INITIATED ON THU, APR 28 2022  10:43\n"
     ]
    },
    {
     "data": {
      "text/plain": [
       "0"
      ]
     },
     "execution_count": 1,
     "metadata": {},
     "output_type": "execute_result"
    }
   ],
   "source": [
    "import os\n",
    "import sys\n",
    "import psse34\n",
    "import psspy\n",
    "import redirect\n",
    "\n",
    "#Damos de alta los directorios de psse,para correrlo sin abrirlo\n",
    "\n",
    "PSSPY_location = r'C:\\Program Files (x86)\\PTI\\PSSE34\\PSSPY27' #hay que cambiar la ruta dependianto si se usa psse34 o 35 tambien en base al python 2 o 3\n",
    "PSSE_location = r'C:\\Program Files (x86)\\PTI\\PSSE34\\PSSBIN' #hay que cambiar la ruta dependianto si se usa psse34 o 35\n",
    "sys.path.append(PSSPY_location)\n",
    "sys.path.append(PSSE_location)\n",
    "os.environ['PATH'] += ';' + PSSPY_location\n",
    "os.environ['PATH'] += ';' + PSSE_location\n",
    "\n",
    "redirect.psse2py()\n",
    "psspy.psseinit(50000)"
   ]
  },
  {
   "cell_type": "markdown",
   "metadata": {},
   "source": [
    "## Ejemplos de uso del NoteBook\n",
    "\n",
    "En las secciones siguientes se harán algunos ejercicios de manipulación y visualización de ejecuciones de **PSS/E** dentro de _Note Books_ con fines de demostración y para que en desarrollos posteriores se puedan reutilizar. Para la realización de los ejemplos se utiliza de referencia de la documentación del **PSS/E**, en la sección "
   ]
  },
  {
   "cell_type": "markdown",
   "metadata": {},
   "source": [
    "### 1. Leer un caso (*.sav)\n",
    "\n",
    "El primer ejemplo consiste en cargar un caso en el ambiente y ver su contenido. Para ello se usa la librería `psspy` con la _API_ `case`. \n",
    "\n",
    "**IMPORTANTE** \n",
    "\n",
    "Todos los comandos o _APIs_ que se utilizan para comunicarse con **PSS/E** (algunos para lectura y otros para modificar directamente el caso) se encuentran en la documentación de **PSS/E**, en la sección de _Aplication Program Interface (API)_"
   ]
  },
  {
   "cell_type": "code",
   "execution_count": 9,
   "metadata": {},
   "outputs": [
    {
     "name": "stdout",
     "output_type": "stream",
     "text": [
      "\n",
      "\n",
      "\n",
      "\n",
      " The Saved Case in file d:\\10243.CENACE\\Desktop\\PSSE\\casos\\1-C15_2027_V16H_OCC_NTE_NES.sav was saved on TUE, APR 12 2022  11:48\n"
     ]
    },
    {
     "data": {
      "text/plain": [
       "0"
      ]
     },
     "execution_count": 9,
     "metadata": {},
     "output_type": "execute_result"
    }
   ],
   "source": [
    "# Comandos de Python\n",
    "\n",
    "CASOS_PATH = \"./casos/\" # Ruta donde se guardan los archivos .sav (de acuerdo con la estructura del repositorio)\n",
    "casos_sav = os.listdir(CASOS_PATH) # Genera una lista con los nombres de \n",
    "\n",
    "# Sección 1.55 de la Docuementación\n",
    "\n",
    "psspy.case(os.path.abspath(\"casos/\" + casos_sav[0])) # Obtiene el caso en la ubicación: [PATH de este NoteBook]/casos/[primer archivo que encuentre en la carpeta]"
   ]
  },
  {
   "cell_type": "markdown",
   "metadata": {},
   "source": [
    "Este comando transfiere el caso indicado al espacio de trabajo de **PSS/E**, con lo cual ya se puede extraer información de él."
   ]
  },
  {
   "cell_type": "markdown",
   "metadata": {},
   "source": [
    "### 2. Extraer información de un caso\n",
    "\n",
    "En este ejemplo se extrae información referente al resumen del caso (_summary_). La salida de esta API es una tabla impresa (un _print_), no se puede tener acceso a las variables que permiten su creación. "
   ]
  },
  {
   "cell_type": "code",
   "execution_count": 11,
   "metadata": {},
   "outputs": [
    {
     "name": "stdout",
     "output_type": "stream",
     "text": [
      "     PTI INTERACTIVE POWER SYSTEM SIMULATOR--PSS(R)E     THU, APR 28 2022  13:24\n",
      "                                                                  SYSTEM SUMMARY\n",
      "\n",
      "\n",
      " ---------------------BUSES----------------------        -----GENERATION----- ----SHUNTS----- -IND MACHS- FACTS   GNE\n",
      "  TOTAL  PQ<>0.  PQ=0.  PE/E   PE/Q  SWING  OTHER  LOADS PLANTS MACHNS   WIND  FIXED SWITCHED GENS MOTORS  DEVS  DEVS\n",
      "  10605   3679   5520    618    299      2    487   4407   1297   1420    432   1665     97      0      0    11     0\n",
      " ------------------AC BRANCHES------------------- 3WIND MULTI-SECTION ---DC LINES--                    AREA X------- SWING BUSES -------X\n",
      "  TOTAL    RXB     RX    RXT   RX=0.    IN    OUT XFORM  LINES SECTNS 2TRM MTRM VSC AREAS ZONES OWNRS TRANS  20025     MMT-03-HI   17.000\n",
      "  12692   5593    132   6740    227  12025    667   728      0      0    3    0   0    11    40   188     0  20027     MMT-05-HI   17.000\n",
      "      ----GENERATION---- INDUCTION                                       GNE\n",
      " TOTAL   SYNCHR  INDUCTN   MOTORS   PQLOAD   I LOAD   Y LOAD   SHUNTS  DEVICES CHARGING   LOSSES    SWING\n",
      " MW     54503.1      0.0      0.0  52890.2      0.0      0.0      5.2      0.0      0.0   1607.8    361.8\n",
      " MVAR    3112.7      0.0      0.0  14583.0      0.0      0.0  -2234.3      0.0  31263.3  22027.3    -48.0\n",
      "\n",
      " TOTAL MISMATCH =    0.32 MVA X--------- AT BUS ----------X   THRSHZ  PQBRAK BLOWUP  SBASE MXTPSS\n",
      "  MAX. MISMATCH =    0.06 MVA 330901     POS-CEV     16.600  0.000100  0.700   5.00 100.00   99\n",
      "   HIGH VOLTAGE = 1.13026 PU   41999     SER-ST      53.000   ADJTHR  ACCTAP TAPLIM SWVBND MXSWIM\n",
      "   LOW  VOLTAGE = 0.83686 PU  308132     TUX-23B     23.000   0.0050  1.0000 0.0500  100.0   10\n",
      "\n",
      " X------ SOLV AND MSLV ------X  X----------------- NEWTON ------------------X  X----- TYSL -----X\n",
      "  ACCP  ACCQ  ACCM   TOL  ITER  ACCN  TOLN  VCTOLQ  VCTOLV ITER  DVLIM NDVFCT  ACCTY    TOL  ITER\n",
      " 1.600 1.600 1.000 0.00010 100  1.00 0.1000 0.1000 0.000010 200 0.9900 0.9900  1.000 0.000010  20\n",
      "     PTI INTERACTIVE POWER SYSTEM SIMULATOR--PSS(R)E     THU, APR 28 2022  13:24\n",
      "                                                                         WORST\n",
      "                                                                      MISMATCHES\n",
      "   BUS#-SCT X-- NAME --X BASKV       MW       MVAR       MVA\n",
      " 330901     POS-CEV     16.600      0.00      0.06      0.06\n",
      " 330900     POS-F1      230.00     -0.00     -0.06      0.06\n",
      " 322769     PMY-ST1     53.000     -0.00      0.05      0.05\n",
      "  32276     PMY-400     400.00     -0.00     -0.05      0.05\n",
      "  32099     KDA-CEV1    17.500      0.00      0.02      0.02\n",
      "  32089     KDA-F1      400.00     -0.00     -0.02      0.02\n",
      " 341700     QRP-F1      230.00     -0.00     -0.02      0.02\n",
      " 341701     QRP-CEV     16.600     -0.00      0.02      0.02\n",
      "  32103     SAN-115     115.00     -0.00     -0.01      0.01\n",
      "     PTI INTERACTIVE POWER SYSTEM SIMULATOR--PSS(R)E     THU, APR 28 2022  13:24\n",
      "                                                                      RATING SET\n",
      "                                                                     UTILIZATION\n",
      " RATING SET  -NAME-  X---------DESCRIPTION----------X  # NON-ZERO RATINGS\n",
      "      1      RATE1   RATING SET 1                             12190\n",
      "      2      RATE2   RATING SET 2                               930\n",
      "      3      RATE3   RATING SET 3                               854\n",
      "      4      RATE4   RATING SET 4                                 5\n",
      "      5      RATE5   RATING SET 5                                 6\n",
      "      6      RATE6   RATING SET 6                                 5\n",
      "      7      RATE7   RATING SET 7                                 5\n",
      "      8      RATE8   RATING SET 8                                 5\n",
      "      9      RATE9   RATING SET 9                                 5\n",
      "     10      RATE10  RATING SET 10                                5\n",
      "     11      RATE11  RATING SET 11                                5\n",
      "     12      RATE12  RATING SET 12                                5\n",
      "\n",
      " Output completed\n"
     ]
    }
   ],
   "source": [
    "# Sección 1.139 de la Docuementación\n",
    "\n",
    "psspy.list(0,1,1,0)"
   ]
  },
  {
   "cell_type": "markdown",
   "metadata": {},
   "source": [
    "### 3. Creación de un subsistema\n",
    "\n",
    "Esta familia de comandos es de los más utilizados porque generalmente se requiere actuar sobre ciertos elementos y no en todo el sistema. En la Docuemntación el **capítulo 5** está dedicado solo a esta actividad."
   ]
  },
  {
   "cell_type": "code",
   "execution_count": 44,
   "metadata": {},
   "outputs": [
    {
     "data": {
      "text/plain": [
       "0"
      ]
     },
     "execution_count": 44,
     "metadata": {},
     "output_type": "execute_result"
    }
   ],
   "source": [
    "# Subsistema identificado con el número \"1\" que comprende a todas las subestaciones del área \"5\"\n",
    "\n",
    "ierr = psspy.asys(0, 1, [5])\n",
    "ierr"
   ]
  },
  {
   "cell_type": "markdown",
   "metadata": {},
   "source": [
    "Este comando no regresa nada, pero le indica al espacio de trabajo que existe un subsistema conformado por todos los buses y elementos asociados que pertenecen al área 5. Las funciones que se ejecuten posteriormente a esta definición de susbistema y que se identifiquen con el subsistema \"1\", actuarán únicamente sobre estos buses (los del área 5)."
   ]
  },
  {
   "cell_type": "markdown",
   "metadata": {},
   "source": [
    "### 4. Extracción de valores para manipulación\n",
    "\n",
    "Para este ejercicio se \"pide\" al programa **PSS/E** nos devuelva el total de demanda de un grupo de subestaciones en el caso. Las extracciones de información del caso se encuentran en el **capítulo 8** de la docuemntación."
   ]
  },
  {
   "cell_type": "code",
   "execution_count": 45,
   "metadata": {},
   "outputs": [],
   "source": [
    "# Devuelve la carga total (en MW y MVAr) de los nodos en servicio con cargas en servicio del subsistema \"1\"\n",
    "\n",
    "ierr, xarray = psspy.aareacplx(1, 1, ['PQLOAD'])\n",
    "xarray"
   ]
  },
  {
   "cell_type": "markdown",
   "metadata": {},
   "source": [
    "De acuerdo con la Documentación (sección 8.23.3), esta API devuelve un arreglo con el número complejo que representa la carga (Real: MW ; Complejo: MVAr) del subsistema de área definido. Esperamos entonces un arreglo de la siguiente forma: \n",
    "\n",
    "```\n",
    "[[(MW + jMVAr totales del subsistema definido)]]\n",
    "\n",
    "[[(5803.85888671875+1338.0889892578125j)]] \n",
    "\n",
    "```"
   ]
  },
  {
   "cell_type": "markdown",
   "metadata": {},
   "source": [
    "En caso de que queramos saber esta información para algún otro mismo subsistema, podemos utilizar la estructura de arreglos que _Python_ permite utilizar de manera nativa: \n",
    "\n",
    "> **Listas, Listas de listas, Diccionarios, Tuplas [(ver más detalles aquí)](https://docs.python.org/es/3/tutorial/datastructures.html)**\n",
    "\n",
    "O bien, arreglos o estructuras de otras paqueterías, que también son muy utilizados para el análisis de datos:\n",
    "\n",
    " > **Arreglos de [numpy](https://numpy.org/)**\n",
    " \n",
    " > **_Dataframes_ de [pandas](https://pandas.pydata.org/)**"
   ]
  },
  {
   "cell_type": "markdown",
   "metadata": {},
   "source": [
    "### 5. Creación de nuevas estructuras de datos\n",
    "\n",
    "En el ejercicio anterior se vió la forma en que se pueden extraer datos del caso de **PSS/E**, sin embargo, esta información (en la forma en la que viene) muchas veces no es útil para los efectos que nosotros queremos, por ejemplo hacer alguna operación, crear un reporte, graficar, entre otros. Para ello podemos manipular o modificar los arreglos que se obtienen con las funciones de la librería **PSSPY** de la forma que más nos convenga para algún otro tratamiento que queramos aplicar a los datos. En este ejercicio, más complejo que los anteriores se pretende realizar lo siguiente:\n",
    "\n",
    "+ Extraer el total de la demanda de 3 áreas [3, 5, 6] (MW y MVAr)\n",
    "+ Calcular el factor de potencia de cada una\n",
    "+ Calcular la potencia aparente (MVA)\n",
    "+ Generar una tabla con estos cuatros valores\n",
    "\n",
    "Para resolver este ejercicio podemos hacerlo de diferentes maneras, dependerá de la lógica con que cada persona visualice la solución será la implementación que va a realizar. Algunas implementaciones pueden ser \"mejores\" que otras en términos de legibilidad del código, eficiencia de ejecución, escalabilidad, etcétera. Sin embargo, cubrir con todas estas características requiere de grados elevados de conocimiento del lenguaje de programación y experiencia en el desarrollo. Por ahora el único requisito que se pide es que cumpla con la tarea encomendada. En este sentido, si a alguien se le ocurre iterar con una variable para generar arreglos o si lo hace de manera puntual, definiendo variables para cada parámetro que se utiliza para obtener el resultado solicitado, está bien."
   ]
  },
  {
   "cell_type": "code",
   "execution_count": 48,
   "metadata": {},
   "outputs": [],
   "source": [
    "# Pseudo-Código de una Posible solución\n",
    "\n",
    "# 1. Crear 3 subsistemas (uno para cada área)\n",
    "# 2. Extraer la demanda (en MW y MVAr) de cada uno de los subsistemas\n",
    "# 3. Realizar las operaciones (cálculos de MVA y FP)\n",
    "# 4. Crear una estructura de datos para vaciar esta información y reportarla"
   ]
  },
  {
   "cell_type": "code",
   "execution_count": 58,
   "metadata": {},
   "outputs": [],
   "source": [
    "# Librerías adicionales que se requieren para la ejecución del código\n",
    "\n",
    "import math  # Para el cálculo del FP\n",
    "import pandas as pd  # Para la creación de la estructura de datos"
   ]
  },
  {
   "cell_type": "code",
   "execution_count": 65,
   "metadata": {},
   "outputs": [
    {
     "data": {
      "text/html": [
       "<div>\n",
       "<style scoped>\n",
       "    .dataframe tbody tr th:only-of-type {\n",
       "        vertical-align: middle;\n",
       "    }\n",
       "\n",
       "    .dataframe tbody tr th {\n",
       "        vertical-align: top;\n",
       "    }\n",
       "\n",
       "    .dataframe thead th {\n",
       "        text-align: right;\n",
       "    }\n",
       "</style>\n",
       "<table border=\"1\" class=\"dataframe\">\n",
       "  <thead>\n",
       "    <tr style=\"text-align: right;\">\n",
       "      <th></th>\n",
       "      <th>1-Area</th>\n",
       "      <th>2-MW</th>\n",
       "      <th>3-MVAr</th>\n",
       "      <th>4-MVA</th>\n",
       "      <th>5-FP</th>\n",
       "    </tr>\n",
       "  </thead>\n",
       "  <tbody>\n",
       "    <tr>\n",
       "      <th>0</th>\n",
       "      <td>3</td>\n",
       "      <td>11784.241211</td>\n",
       "      <td>3866.675049</td>\n",
       "      <td>12402.399641</td>\n",
       "      <td>0.950158</td>\n",
       "    </tr>\n",
       "    <tr>\n",
       "      <th>1</th>\n",
       "      <td>5</td>\n",
       "      <td>5803.858887</td>\n",
       "      <td>1338.088989</td>\n",
       "      <td>5956.111157</td>\n",
       "      <td>0.974438</td>\n",
       "    </tr>\n",
       "    <tr>\n",
       "      <th>2</th>\n",
       "      <td>6</td>\n",
       "      <td>11408.402344</td>\n",
       "      <td>3745.507080</td>\n",
       "      <td>12007.517117</td>\n",
       "      <td>0.950105</td>\n",
       "    </tr>\n",
       "  </tbody>\n",
       "</table>\n",
       "</div>"
      ],
      "text/plain": [
       "   1-Area          2-MW       3-MVAr         4-MVA      5-FP\n",
       "0       3  11784.241211  3866.675049  12402.399641  0.950158\n",
       "1       5   5803.858887  1338.088989   5956.111157  0.974438\n",
       "2       6  11408.402344  3745.507080  12007.517117  0.950105"
      ]
     },
     "execution_count": 65,
     "metadata": {},
     "output_type": "execute_result"
    }
   ],
   "source": [
    "# Paso 1. Define subsistemas\n",
    "\n",
    "psspy.asys(0, 1, [3])\n",
    "psspy.asys(1, 1, [5])\n",
    "psspy.asys(2, 1, [6])\n",
    "\n",
    "# Paso 2. Extrae datos de cada subsistema y almacena en variables independientes\n",
    "\n",
    "ierr, xarray3 = psspy.aareacplx(0, 1, ['PQLOAD'])\n",
    "ierr, xarray5 = psspy.aareacplx(1, 1, ['PQLOAD'])\n",
    "ierr, xarray6 = psspy.aareacplx(2, 1, ['PQLOAD'])\n",
    "\n",
    "# Paso 3. Realiza cálculos solicitados\n",
    "\n",
    "MVA3 = abs(xarray3[0][0])\n",
    "MVA5 = abs(xarray5[0][0])\n",
    "MVA6 = abs(xarray6[0][0])\n",
    "\n",
    "FP3 = xarray3[0][0].real/MVA3\n",
    "FP5 = xarray5[0][0].real/MVA5\n",
    "FP6 = xarray6[0][0].real/MVA6\n",
    "\n",
    "# Paso 4. Crea una estructura de datos con los valores obtenidos (Data Frame)\n",
    "\n",
    "results = {\n",
    "    '1-Area' : [3,5,6],\n",
    "    '2-MW': [xarray3[0][0].real,xarray5[0][0].real,xarray6[0][0].real],\n",
    "    '3-MVAr': [xarray3[0][0].imag,xarray5[0][0].imag,xarray6[0][0].imag],\n",
    "    '4-MVA': [MVA3,MVA5,MVA6],\n",
    "    '5-FP': [FP3,FP5,FP6],\n",
    "}\n",
    "r = pd.DataFrame(results)\n",
    "r\n"
   ]
  },
  {
   "cell_type": "markdown",
   "metadata": {},
   "source": [
    "> **NOTA:** El Data Frame que se creó con la librería de _pandas_ se hizo por medio de un diccionario, pero hay más [formas de hacerlo](https://www.codigopiton.com/como-crear-un-dataframe-con-pandas-y-python/#:~:text=Para%20crear%20un%20DataFrame%20a,contenido%20listo%20para%20su%20uso.)"
   ]
  },
  {
   "cell_type": "markdown",
   "metadata": {},
   "source": [
    "### 6. Módulos para tareas específicas\n",
    "\n",
    "Los ejemplos vistos anteriormente y en general la programación se puede realizar a partir de bloques o porciones de código que, ordenadas de manera adecuada, producen el resultado que buscamos. Continuando con el ejercicio anterior, se puede pensar en una solución que realice la misma tarea pero utilizando otros recursos como los ciclos y las funciones. En este ejemplo se hará la misma tarea del ejercicio anterior pero utilizando ciclos iterativos.\n",
    "\n",
    "Para ello, antes de realizar la implementación con ciclos iterativos hay que responder las siguientes preguntas:\n",
    "\n",
    "> ¿Cuáles tareas se repiten?\n",
    "\n",
    "> ¿Cuántas repeticiones se hacen en cada tarea?\n",
    "\n",
    "> ¿Cuáles tareas dependen unas de otras y en qué orden?\n",
    "\n",
    "Para la primera pregunta, podemos ver que: la definición del subsistema (uno para cada área) se repite 3 veces, la extracción de información también se hace 3 veces, el cálculo de los MVA y del FP de igual forma se realiza 3 veces, mientras que la creación del Data Frame solo es realizado una vez. Además, existe una dependencia (secuencia) en la ejecución: primero se definen los subsistemas, después se extraen los datos, se hacen los cálculos y finalmente se vierten en un Data Frame. Con esto en mente se puede generar el siguiente código:"
   ]
  },
  {
   "cell_type": "code",
   "execution_count": 71,
   "metadata": {},
   "outputs": [
    {
     "data": {
      "text/html": [
       "<div>\n",
       "<style scoped>\n",
       "    .dataframe tbody tr th:only-of-type {\n",
       "        vertical-align: middle;\n",
       "    }\n",
       "\n",
       "    .dataframe tbody tr th {\n",
       "        vertical-align: top;\n",
       "    }\n",
       "\n",
       "    .dataframe thead th {\n",
       "        text-align: right;\n",
       "    }\n",
       "</style>\n",
       "<table border=\"1\" class=\"dataframe\">\n",
       "  <thead>\n",
       "    <tr style=\"text-align: right;\">\n",
       "      <th></th>\n",
       "      <th>Area</th>\n",
       "      <th>MW</th>\n",
       "      <th>MVAr</th>\n",
       "      <th>MVA</th>\n",
       "      <th>FP</th>\n",
       "    </tr>\n",
       "  </thead>\n",
       "  <tbody>\n",
       "    <tr>\n",
       "      <th>0</th>\n",
       "      <td>3</td>\n",
       "      <td>11784.241211</td>\n",
       "      <td>3866.675049</td>\n",
       "      <td>12402.399641</td>\n",
       "      <td>0.950158</td>\n",
       "    </tr>\n",
       "    <tr>\n",
       "      <th>1</th>\n",
       "      <td>5</td>\n",
       "      <td>5803.858887</td>\n",
       "      <td>1338.088989</td>\n",
       "      <td>5956.111157</td>\n",
       "      <td>0.974438</td>\n",
       "    </tr>\n",
       "    <tr>\n",
       "      <th>2</th>\n",
       "      <td>6</td>\n",
       "      <td>11408.402344</td>\n",
       "      <td>3745.507080</td>\n",
       "      <td>12007.517117</td>\n",
       "      <td>0.950105</td>\n",
       "    </tr>\n",
       "  </tbody>\n",
       "</table>\n",
       "</div>"
      ],
      "text/plain": [
       "   Area            MW         MVAr           MVA        FP\n",
       "0     3  11784.241211  3866.675049  12402.399641  0.950158\n",
       "1     5   5803.858887  1338.088989   5956.111157  0.974438\n",
       "2     6  11408.402344  3745.507080  12007.517117  0.950105"
      ]
     },
     "execution_count": 71,
     "metadata": {},
     "output_type": "execute_result"
    }
   ],
   "source": [
    "# Definir las variables que necesitamos para cada iteración\n",
    "\n",
    "areas = [3,5,6]\n",
    "\n",
    "# Establecer los arreglos en donde se almacenarán los resultados\n",
    "\n",
    "MW = []\n",
    "MVAr = []\n",
    "MVA = []\n",
    "FP = []\n",
    "resultados = pd.DataFrame()\n",
    "\n",
    "# Crear el ciclo y el orden en que se ejecutarán las tareas\n",
    "\n",
    "for area in areas:\n",
    "    psspy.asys(0, 1, [area])\n",
    "    ierr, xarray = psspy.aareacplx(0, 1, ['PQLOAD'])\n",
    "    MW.append(xarray[0][0].real)\n",
    "    MVAr.append(xarray[0][0].imag)\n",
    "    MVA.append(abs(xarray[0][0]))\n",
    "    FP.append(xarray[0][0].real/abs(xarray[0][0]))\n",
    "\n",
    "# Crear un Data Frame con los resultados obtenidos\n",
    "\n",
    "nom_col = ['Area', 'MW', 'MVAr', 'MVA', 'FP']  \n",
    "cols = [areas,MW,MVAr,MVA,FP]\n",
    "it = 0\n",
    "\n",
    "for nom in nom_col:\n",
    "    resultados[nom] = cols[it]\n",
    "    it += 1\n",
    "\n",
    "resultados\n"
   ]
  },
  {
   "cell_type": "markdown",
   "metadata": {},
   "source": [
    "### 7. Utilizar funciones\n",
    "\n",
    "Podemos ver que la solución del ejemplo 5, a pesar contar con exactamente las mismas líneas de código (19) del ejemplo 6, es una solución que escalarla no llevaría a más líneas de código, muchas más variables y a una mayor concentración para no equivocarnos (errores de dedo) por trabajar con tantas variables. La parte final de lo ejemplos consiste en encapsular los conjuntos de código que consideremos importantes y útiles para su utilización en tareas cotidianas. En este caso haremos dos funciones a partir del código del ejemplo 6 y se discutirá la importancia de hacerlo de esta manera.\n",
    "\n",
    "Para ello, el primer paso es visualizar las posibles aplicaciones que queramos hacer a partir de la función que queremos crear, por ejemplo:\n",
    "\n",
    "> El código para realizar una tarea en particular es muy extenso \n",
    "\n",
    "> Hay una acción se repite constantemente durante la ejecución del NoteBook o el programa\n",
    "\n",
    "> La tarea que se realiza es muy útil y práctica que se quiere docuemntar para usar en otros programas\n",
    "\n",
    "En nuestro caso, detectamos dos tareas que pueden ser utilizadas con frecuencia y el código que ya tenemos para hacerlas es un poco largo. Además, como la aplicación de los NoteBooks puede ser para reportar y/o realizar análisis de flujos de potencia, no es práctico tener los desarrollos programáticos que se hicieron (no es el objetivo). En este sentido, se identifican dos tareas que pueden formar parte de funciones: \n",
    "\n",
    "+ _Extracción de la carga del caso de flujos de potencia_ y \n",
    "\n",
    "+ _Creación de Data Frames para visualizar resultados y/o graficar_ "
   ]
  },
  {
   "cell_type": "markdown",
   "metadata": {},
   "source": [
    "#### Función 1. Extrae datos de carga de las áreas requeridas"
   ]
  },
  {
   "cell_type": "code",
   "execution_count": 99,
   "metadata": {},
   "outputs": [],
   "source": [
    "def carga_area_(areas):\n",
    "    '''\n",
    "        Obtiene la carga de una o varias áreas del sistema.\n",
    "        Args:\n",
    "            areas (list): Listado de las áreas que se quieren consultar,\n",
    "        Returns:\n",
    "            MW (list): Lista con los valores de la potencia activa en cada área. \n",
    "            MVAr (list): Lista con los valores de la potencia reactiva en cada área.\n",
    "            MVA (list): Lista con los valores de la potencia aparente en cada área.\n",
    "            FP (list): Lista con los valores del factor de potencia en cada área.\n",
    "    '''\n",
    "    # Establecer los arreglos en donde se almacenarán los resultados\n",
    "    MW = []\n",
    "    MVAr = []\n",
    "    MVA = []\n",
    "    FP = []\n",
    "    # Crear el ciclo y el orden en que se ejecutarán las tareas\n",
    "    for area in areas:\n",
    "        psspy.asys(0, 1, [area])\n",
    "        ierr, xarray = psspy.aareacplx(0, 1, ['PQLOAD'])\n",
    "        MW.append(xarray[0][0].real)\n",
    "        MVAr.append(xarray[0][0].imag)\n",
    "        MVA.append(abs(xarray[0][0]))\n",
    "        FP.append(xarray[0][0].real/abs(xarray[0][0]))\n",
    "    return areas, MW , MVAr, MVA, FP"
   ]
  },
  {
   "cell_type": "markdown",
   "metadata": {},
   "source": [
    "#### Función 2. Crea un Data Frame de Pandas a partir de valores asignados en arreglo de listas"
   ]
  },
  {
   "cell_type": "code",
   "execution_count": 100,
   "metadata": {},
   "outputs": [],
   "source": [
    "def crea_df_(nom_cols,val_cols):\n",
    "    '''\n",
    "        Crea un DataFrame con los nombres de columna y los valores de cada columna.\n",
    "        Args:\n",
    "            nom_cols (list): Listado de las nombres de columna que se desean en el Data Frame (encabezados)\n",
    "            val_cols (tuple): Tupla con los valores de las variables referentes a cada columna de nom_cols (cada elemento de la lista es también una lista)\n",
    "        Returns:\n",
    "            df (DataFrame): Data Frame con los elementos proporcionados \n",
    "    '''\n",
    "    it = 0\n",
    "    df = pd.DataFrame()\n",
    "    for nom in nom_cols:\n",
    "        df[nom] = val_cols[it]\n",
    "        it += 1\n",
    "    return df"
   ]
  },
  {
   "cell_type": "markdown",
   "metadata": {},
   "source": [
    "Mandar llamar a las funciones de acuerdo con la documentación generada para cada una ([docstring](https://peps.python.org/pep-0257/))"
   ]
  },
  {
   "cell_type": "code",
   "execution_count": 101,
   "metadata": {},
   "outputs": [
    {
     "name": "stdout",
     "output_type": "stream",
     "text": [
      "[[3, 5, 6], [11784.2412109375, 5803.85888671875, 11408.40234375], [3866.675048828125, 1338.0889892578125, 3745.507080078125], [12402.39964082708, 5956.111157468201, 12007.517117364267], [0.950158159082805, 0.9744376377934878, 0.9501050243977686]]\n"
     ]
    }
   ],
   "source": [
    "# Variables que almacenarán la salida de la función\n",
    "areas, MW , MVAr, MVA, FP = carga_area_([3,5,6])\n",
    "\n",
    "# Resultados tras ejecutar lafunción creada\n",
    "print([areas, MW , MVAr, MVA, FP])"
   ]
  },
  {
   "cell_type": "code",
   "execution_count": 102,
   "metadata": {},
   "outputs": [
    {
     "data": {
      "text/html": [
       "<div>\n",
       "<style scoped>\n",
       "    .dataframe tbody tr th:only-of-type {\n",
       "        vertical-align: middle;\n",
       "    }\n",
       "\n",
       "    .dataframe tbody tr th {\n",
       "        vertical-align: top;\n",
       "    }\n",
       "\n",
       "    .dataframe thead th {\n",
       "        text-align: right;\n",
       "    }\n",
       "</style>\n",
       "<table border=\"1\" class=\"dataframe\">\n",
       "  <thead>\n",
       "    <tr style=\"text-align: right;\">\n",
       "      <th></th>\n",
       "      <th>Area</th>\n",
       "      <th>MW</th>\n",
       "      <th>MVAr</th>\n",
       "      <th>MVA</th>\n",
       "      <th>FP</th>\n",
       "    </tr>\n",
       "  </thead>\n",
       "  <tbody>\n",
       "    <tr>\n",
       "      <th>0</th>\n",
       "      <td>3</td>\n",
       "      <td>11784.241211</td>\n",
       "      <td>3866.675049</td>\n",
       "      <td>12402.399641</td>\n",
       "      <td>0.950158</td>\n",
       "    </tr>\n",
       "    <tr>\n",
       "      <th>1</th>\n",
       "      <td>5</td>\n",
       "      <td>5803.858887</td>\n",
       "      <td>1338.088989</td>\n",
       "      <td>5956.111157</td>\n",
       "      <td>0.974438</td>\n",
       "    </tr>\n",
       "    <tr>\n",
       "      <th>2</th>\n",
       "      <td>6</td>\n",
       "      <td>11408.402344</td>\n",
       "      <td>3745.507080</td>\n",
       "      <td>12007.517117</td>\n",
       "      <td>0.950105</td>\n",
       "    </tr>\n",
       "  </tbody>\n",
       "</table>\n",
       "</div>"
      ],
      "text/plain": [
       "   Area            MW         MVAr           MVA        FP\n",
       "0     3  11784.241211  3866.675049  12402.399641  0.950158\n",
       "1     5   5803.858887  1338.088989   5956.111157  0.974438\n",
       "2     6  11408.402344  3745.507080  12007.517117  0.950105"
      ]
     },
     "execution_count": 102,
     "metadata": {},
     "output_type": "execute_result"
    }
   ],
   "source": [
    "# Encabezados de las columnas\n",
    "nom_cols = ['Area', 'MW', 'MVAr', 'MVA', 'FP']\n",
    "\n",
    "# Valores de cada columna (el orden de la salida de la función carga_area() coincide con los encabezados definidos, por eso se manda llamar directamente para crear la variable \"val_cols\")\n",
    "val_cols = carga_area_([3,5,6])\n",
    "\n",
    "# Se manda llamar la función y su resultado se almacena en \"df\"\n",
    "df = crea_df_(nom_cols,val_cols)\n",
    "df"
   ]
  },
  {
   "cell_type": "markdown",
   "metadata": {},
   "source": [
    "### 8. Llamado a funciones desde un archivo externo\n",
    "\n",
    "Hemos visto que la idea de tener funciones propias para ejecutar porciones de código específicas para una tarea en particular, simplifica la lectura del código y nos ayuda a tener documentos mas limpios, en esta caso Note Books. Sin embargo, en el ejercicio 7 vemos que las funciones que recién creamos siguen estando en el documento, el cual ya se ha extendido porbastantes líneas. La mejor forma de evitar llenar de funciones nuestro Note Book es creando un archivo _*.py_ con todas las funciones que vayamos creando e importar a nuestro espacio de trabajo las que vayamos a requerir.\n",
    "\n",
    "En este repositorio ya se creó la estructura necesaria para que al momento de clonarlo se puedan realizar ejercicios escribiendo nuevas funciones en el archivo _funcs.py_ y mandándolas llamar de la siguiente forma: "
   ]
  },
  {
   "cell_type": "code",
   "execution_count": 103,
   "metadata": {},
   "outputs": [],
   "source": [
    "from src.funcs import carga_area, crea_df"
   ]
  },
  {
   "cell_type": "markdown",
   "metadata": {},
   "source": [
    "Con esta instrucción ya podemos mandar llamar las funciones, aunque no estén dentro del Note Book que se está ejecutando.\n",
    "\n",
    "**Nótese** que las funciones creadas anteriormente tienen un guión bajo al final del nombre **( _ )** mientras que las funciones que se encuentran en el archivo _.py_ no lo tienen. Esto se hizo para garantizar que se están importando correctamente desde el archivo **_func.py_**  "
   ]
  },
  {
   "cell_type": "code",
   "execution_count": 104,
   "metadata": {},
   "outputs": [
    {
     "data": {
      "text/html": [
       "<div>\n",
       "<style scoped>\n",
       "    .dataframe tbody tr th:only-of-type {\n",
       "        vertical-align: middle;\n",
       "    }\n",
       "\n",
       "    .dataframe tbody tr th {\n",
       "        vertical-align: top;\n",
       "    }\n",
       "\n",
       "    .dataframe thead th {\n",
       "        text-align: right;\n",
       "    }\n",
       "</style>\n",
       "<table border=\"1\" class=\"dataframe\">\n",
       "  <thead>\n",
       "    <tr style=\"text-align: right;\">\n",
       "      <th></th>\n",
       "      <th>Area</th>\n",
       "      <th>MW</th>\n",
       "      <th>MVAr</th>\n",
       "      <th>MVA</th>\n",
       "      <th>FP</th>\n",
       "    </tr>\n",
       "  </thead>\n",
       "  <tbody>\n",
       "    <tr>\n",
       "      <th>0</th>\n",
       "      <td>3</td>\n",
       "      <td>11784.241211</td>\n",
       "      <td>3866.675049</td>\n",
       "      <td>12402.399641</td>\n",
       "      <td>0.950158</td>\n",
       "    </tr>\n",
       "    <tr>\n",
       "      <th>1</th>\n",
       "      <td>5</td>\n",
       "      <td>5803.858887</td>\n",
       "      <td>1338.088989</td>\n",
       "      <td>5956.111157</td>\n",
       "      <td>0.974438</td>\n",
       "    </tr>\n",
       "    <tr>\n",
       "      <th>2</th>\n",
       "      <td>6</td>\n",
       "      <td>11408.402344</td>\n",
       "      <td>3745.507080</td>\n",
       "      <td>12007.517117</td>\n",
       "      <td>0.950105</td>\n",
       "    </tr>\n",
       "  </tbody>\n",
       "</table>\n",
       "</div>"
      ],
      "text/plain": [
       "   Area            MW         MVAr           MVA        FP\n",
       "0     3  11784.241211  3866.675049  12402.399641  0.950158\n",
       "1     5   5803.858887  1338.088989   5956.111157  0.974438\n",
       "2     6  11408.402344  3745.507080  12007.517117  0.950105"
      ]
     },
     "execution_count": 104,
     "metadata": {},
     "output_type": "execute_result"
    }
   ],
   "source": [
    "# Encabezados de las columnas\n",
    "nom_cols = ['Area', 'MW', 'MVAr', 'MVA', 'FP']\n",
    "\n",
    "# Valores de cada columna (el orden de la salida de la función carga_area() coincide con los encabezados definidos, por eso se manda llamar directamente para crear la variable \"val_cols\")\n",
    "val_cols = carga_area([3,5,6])\n",
    "\n",
    "# Se manda llamar la función y su resultado se almacena en \"df\"\n",
    "df = crea_df(nom_cols,val_cols)\n",
    "df"
   ]
  }
 ],
 "metadata": {
  "interpreter": {
   "hash": "6c3d9491ffb4e8c5e5cf823b7ff7179d3b82dbc9d7cf31eabb7f563a18a63946"
  },
  "kernelspec": {
   "display_name": "Python 3.7.0 64-bit ('3.7.0')",
   "language": "python",
   "name": "python3"
  },
  "language_info": {
   "codemirror_mode": {
    "name": "ipython",
    "version": 2
   },
   "file_extension": ".py",
   "mimetype": "text/x-python",
   "name": "python",
   "nbconvert_exporter": "python",
   "pygments_lexer": "ipython2",
   "version": "2.7.13"
  },
  "orig_nbformat": 4
 },
 "nbformat": 4,
 "nbformat_minor": 2
}
